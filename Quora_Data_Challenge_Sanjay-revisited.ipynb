{
 "cells": [
  {
   "cell_type": "markdown",
   "metadata": {},
   "source": [
    "# Quora data challenge"
   ]
  },
  {
   "cell_type": "markdown",
   "metadata": {},
   "source": [
    "## 1. Data exploration and treatment"
   ]
  },
  {
   "cell_type": "code",
   "execution_count": 1,
   "metadata": {},
   "outputs": [],
   "source": [
    "import pandas as pd\n",
    "import seaborn as sns"
   ]
  },
  {
   "cell_type": "code",
   "execution_count": 2,
   "metadata": {},
   "outputs": [],
   "source": [
    "t1 = pd.read_csv('t1_user_active_min.csv')\n",
    "t2 = pd.read_csv('t2_user_variant.csv')\n",
    "t3 = pd.read_csv('t3_user_active_min_pre.csv')\n",
    "t4 = pd.read_csv('t4_user_attributes.csv')"
   ]
  },
  {
   "cell_type": "markdown",
   "metadata": {},
   "source": [
    "t1_user_active_min.csv\n",
    "---\n",
    "This table contains active minutes data logged after experiment started.\n",
    "Each row represents the total number of minutes spent on site for each user on a date.\n",
    "If a user never visited the site for a given date, there wouldn't be data for that uid on that date.\n",
    "- uid: user ID\n",
    "- dt: date when corresponding active minutes are registered\n",
    "- active_mins: number of minutes spent on site for the date"
   ]
  },
  {
   "cell_type": "code",
   "execution_count": 3,
   "metadata": {},
   "outputs": [
    {
     "data": {
      "text/html": [
       "<div>\n",
       "<style scoped>\n",
       "    .dataframe tbody tr th:only-of-type {\n",
       "        vertical-align: middle;\n",
       "    }\n",
       "\n",
       "    .dataframe tbody tr th {\n",
       "        vertical-align: top;\n",
       "    }\n",
       "\n",
       "    .dataframe thead th {\n",
       "        text-align: right;\n",
       "    }\n",
       "</style>\n",
       "<table border=\"1\" class=\"dataframe\">\n",
       "  <thead>\n",
       "    <tr style=\"text-align: right;\">\n",
       "      <th></th>\n",
       "      <th>uid</th>\n",
       "      <th>dt</th>\n",
       "      <th>active_mins</th>\n",
       "    </tr>\n",
       "  </thead>\n",
       "  <tbody>\n",
       "    <tr>\n",
       "      <th>0</th>\n",
       "      <td>0</td>\n",
       "      <td>2019-02-22</td>\n",
       "      <td>5.0</td>\n",
       "    </tr>\n",
       "    <tr>\n",
       "      <th>1</th>\n",
       "      <td>0</td>\n",
       "      <td>2019-03-11</td>\n",
       "      <td>5.0</td>\n",
       "    </tr>\n",
       "    <tr>\n",
       "      <th>2</th>\n",
       "      <td>0</td>\n",
       "      <td>2019-03-18</td>\n",
       "      <td>3.0</td>\n",
       "    </tr>\n",
       "    <tr>\n",
       "      <th>3</th>\n",
       "      <td>0</td>\n",
       "      <td>2019-03-22</td>\n",
       "      <td>4.0</td>\n",
       "    </tr>\n",
       "    <tr>\n",
       "      <th>4</th>\n",
       "      <td>0</td>\n",
       "      <td>2019-04-03</td>\n",
       "      <td>9.0</td>\n",
       "    </tr>\n",
       "  </tbody>\n",
       "</table>\n",
       "</div>"
      ],
      "text/plain": [
       "   uid          dt  active_mins\n",
       "0    0  2019-02-22          5.0\n",
       "1    0  2019-03-11          5.0\n",
       "2    0  2019-03-18          3.0\n",
       "3    0  2019-03-22          4.0\n",
       "4    0  2019-04-03          9.0"
      ]
     },
     "execution_count": 3,
     "metadata": {},
     "output_type": "execute_result"
    }
   ],
   "source": [
    "t1.head()"
   ]
  },
  {
   "cell_type": "code",
   "execution_count": 4,
   "metadata": {},
   "outputs": [
    {
     "data": {
      "text/plain": [
       "(1066402, 3)"
      ]
     },
     "execution_count": 4,
     "metadata": {},
     "output_type": "execute_result"
    }
   ],
   "source": [
    "t1.shape"
   ]
  },
  {
   "cell_type": "code",
   "execution_count": 5,
   "metadata": {},
   "outputs": [
    {
     "data": {
      "text/plain": [
       "Index([], dtype='object')"
      ]
     },
     "execution_count": 5,
     "metadata": {},
     "output_type": "execute_result"
    }
   ],
   "source": [
    "t1.columns[t1.isnull().any()]"
   ]
  },
  {
   "cell_type": "code",
   "execution_count": 6,
   "metadata": {},
   "outputs": [
    {
     "data": {
      "text/plain": [
       "46633"
      ]
     },
     "execution_count": 6,
     "metadata": {},
     "output_type": "execute_result"
    }
   ],
   "source": [
    "len(set(list(t1.uid)))"
   ]
  },
  {
   "cell_type": "code",
   "execution_count": 7,
   "metadata": {},
   "outputs": [
    {
     "data": {
      "text/plain": [
       "150"
      ]
     },
     "execution_count": 7,
     "metadata": {},
     "output_type": "execute_result"
    }
   ],
   "source": [
    "len(set(list(t1.dt)))"
   ]
  },
  {
   "cell_type": "code",
   "execution_count": 8,
   "metadata": {},
   "outputs": [
    {
     "data": {
      "text/plain": [
       "count                 1066402\n",
       "unique                    150\n",
       "top       2019-02-06 00:00:00\n",
       "freq                     8675\n",
       "first     2019-02-06 00:00:00\n",
       "last      2019-07-05 00:00:00\n",
       "Name: dt, dtype: object"
      ]
     },
     "execution_count": 8,
     "metadata": {},
     "output_type": "execute_result"
    }
   ],
   "source": [
    "pd.to_datetime(t1.dt).describe()"
   ]
  },
  {
   "cell_type": "code",
   "execution_count": 9,
   "metadata": {},
   "outputs": [
    {
     "data": {
      "text/plain": [
       "Timedelta('149 days 00:00:00')"
      ]
     },
     "execution_count": 9,
     "metadata": {},
     "output_type": "execute_result"
    }
   ],
   "source": [
    "pd.to_datetime(t1.dt).max() - pd.to_datetime(t1.dt).min()"
   ]
  },
  {
   "cell_type": "code",
   "execution_count": 10,
   "metadata": {},
   "outputs": [
    {
     "data": {
      "text/plain": [
       "Timestamp('2018-09-10 00:00:00')"
      ]
     },
     "execution_count": 10,
     "metadata": {},
     "output_type": "execute_result"
    }
   ],
   "source": [
    "from datetime import timedelta\n",
    "pd.to_datetime(\"2019-02-06\") - timedelta(days = 149)"
   ]
  },
  {
   "cell_type": "code",
   "execution_count": 11,
   "metadata": {},
   "outputs": [
    {
     "data": {
      "text/plain": [
       "count    1.066402e+06\n",
       "mean     3.616809e+01\n",
       "std      1.270484e+03\n",
       "min      1.000000e+00\n",
       "25%      2.000000e+00\n",
       "50%      5.000000e+00\n",
       "75%      1.700000e+01\n",
       "max      9.999900e+04\n",
       "Name: active_mins, dtype: float64"
      ]
     },
     "execution_count": 11,
     "metadata": {},
     "output_type": "execute_result"
    }
   ],
   "source": [
    "t1.active_mins.describe()"
   ]
  },
  {
   "cell_type": "code",
   "execution_count": 12,
   "metadata": {},
   "outputs": [
    {
     "data": {
      "text/plain": [
       "<matplotlib.axes._subplots.AxesSubplot at 0x1a26af69e8>"
      ]
     },
     "execution_count": 12,
     "metadata": {},
     "output_type": "execute_result"
    },
    {
     "data": {
      "image/png": "[encoded data removed]",
      "text/plain": [
       "<Figure size 432x288 with 1 Axes>"
      ]
     },
     "metadata": {
      "needs_background": "light"
     },
     "output_type": "display_data"
    }
   ],
   "source": [
    "sns.boxplot(t1.active_mins)"
   ]
  },
  {
   "cell_type": "code",
   "execution_count": 13,
   "metadata": {},
   "outputs": [
    {
     "data": {
      "text/plain": [
       "0.00        1.0\n",
       "0.05        1.0\n",
       "0.10        1.0\n",
       "0.25        2.0\n",
       "0.50        5.0\n",
       "0.75       17.0\n",
       "0.90       50.0\n",
       "0.95       89.0\n",
       "0.99      227.0\n",
       "1.00    99999.0\n",
       "Name: active_mins, dtype: float64"
      ]
     },
     "execution_count": 13,
     "metadata": {},
     "output_type": "execute_result"
    }
   ],
   "source": [
    "t1.active_mins.quantile([0,.05,.1,.25,.5,.75,.9,.95,.99,1])"
   ]
  },
  {
   "cell_type": "code",
   "execution_count": 14,
   "metadata": {},
   "outputs": [],
   "source": [
    "# remove extreme outliers - user can't be online in a day for more than 1440 minutes\n",
    "t1 = t1[t1.active_mins<=1440]"
   ]
  },
  {
   "cell_type": "code",
   "execution_count": 15,
   "metadata": {},
   "outputs": [
    {
     "data": {
      "text/plain": [
       "<matplotlib.axes._subplots.AxesSubplot at 0x1a2b843438>"
      ]
     },
     "execution_count": 15,
     "metadata": {},
     "output_type": "execute_result"
    },
    {
     "data": {
      "image/png": "[encoded data removed]",
      "text/plain": [
       "<Figure size 432x288 with 1 Axes>"
      ]
     },
     "metadata": {
      "needs_background": "light"
     },
     "output_type": "display_data"
    }
   ],
   "source": [
    "sns.violinplot(t1.active_mins)"
   ]
  },
  {
   "cell_type": "code",
   "execution_count": 16,
   "metadata": {},
   "outputs": [
    {
     "data": {
      "text/plain": [
       "0.00      1.0\n",
       "0.05      1.0\n",
       "0.10      1.0\n",
       "0.25      2.0\n",
       "0.50      5.0\n",
       "0.75     17.0\n",
       "0.90     50.0\n",
       "0.95     89.0\n",
       "0.99    226.0\n",
       "1.00    897.0\n",
       "Name: active_mins, dtype: float64"
      ]
     },
     "execution_count": 16,
     "metadata": {},
     "output_type": "execute_result"
    }
   ],
   "source": [
    "t1.active_mins.quantile([0,.05,.1,.25,.5,.75,.9,.95,.99,1])"
   ]
  },
  {
   "cell_type": "markdown",
   "metadata": {},
   "source": [
    "t2_user_variant.csv\n",
    "---\n",
    "This table contains users’ treatment assignment.\n",
    "Each row represents the assignment information for a unique user.\n",
    "- uid: user ID\n",
    "- variant_number: the experiment variant user is in. 0 for control, 1 for treatment\n",
    "- dt: date when user entered the experiment, should be ‘2019-02-06’ for all users\n",
    "- signup_date: the date string that user signed up on"
   ]
  },
  {
   "cell_type": "code",
   "execution_count": 17,
   "metadata": {},
   "outputs": [
    {
     "data": {
      "text/html": [
       "<div>\n",
       "<style scoped>\n",
       "    .dataframe tbody tr th:only-of-type {\n",
       "        vertical-align: middle;\n",
       "    }\n",
       "\n",
       "    .dataframe tbody tr th {\n",
       "        vertical-align: top;\n",
       "    }\n",
       "\n",
       "    .dataframe thead th {\n",
       "        text-align: right;\n",
       "    }\n",
       "</style>\n",
       "<table border=\"1\" class=\"dataframe\">\n",
       "  <thead>\n",
       "    <tr style=\"text-align: right;\">\n",
       "      <th></th>\n",
       "      <th>uid</th>\n",
       "      <th>variant_number</th>\n",
       "      <th>dt</th>\n",
       "      <th>signup_date</th>\n",
       "    </tr>\n",
       "  </thead>\n",
       "  <tbody>\n",
       "    <tr>\n",
       "      <th>0</th>\n",
       "      <td>0</td>\n",
       "      <td>0</td>\n",
       "      <td>2019-02-06</td>\n",
       "      <td>2018-09-24</td>\n",
       "    </tr>\n",
       "    <tr>\n",
       "      <th>1</th>\n",
       "      <td>1</td>\n",
       "      <td>0</td>\n",
       "      <td>2019-02-06</td>\n",
       "      <td>2016-11-07</td>\n",
       "    </tr>\n",
       "    <tr>\n",
       "      <th>2</th>\n",
       "      <td>2</td>\n",
       "      <td>0</td>\n",
       "      <td>2019-02-06</td>\n",
       "      <td>2018-09-17</td>\n",
       "    </tr>\n",
       "    <tr>\n",
       "      <th>3</th>\n",
       "      <td>3</td>\n",
       "      <td>0</td>\n",
       "      <td>2019-02-06</td>\n",
       "      <td>2018-03-04</td>\n",
       "    </tr>\n",
       "    <tr>\n",
       "      <th>4</th>\n",
       "      <td>4</td>\n",
       "      <td>0</td>\n",
       "      <td>2019-02-06</td>\n",
       "      <td>2017-03-09</td>\n",
       "    </tr>\n",
       "  </tbody>\n",
       "</table>\n",
       "</div>"
      ],
      "text/plain": [
       "   uid  variant_number          dt signup_date\n",
       "0    0               0  2019-02-06  2018-09-24\n",
       "1    1               0  2019-02-06  2016-11-07\n",
       "2    2               0  2019-02-06  2018-09-17\n",
       "3    3               0  2019-02-06  2018-03-04\n",
       "4    4               0  2019-02-06  2017-03-09"
      ]
     },
     "execution_count": 17,
     "metadata": {},
     "output_type": "execute_result"
    }
   ],
   "source": [
    "t2.head()"
   ]
  },
  {
   "cell_type": "code",
   "execution_count": 18,
   "metadata": {},
   "outputs": [
    {
     "data": {
      "text/plain": [
       "Index([], dtype='object')"
      ]
     },
     "execution_count": 18,
     "metadata": {},
     "output_type": "execute_result"
    }
   ],
   "source": [
    "t2.columns[t2.isnull().any()]"
   ]
  },
  {
   "cell_type": "code",
   "execution_count": 19,
   "metadata": {},
   "outputs": [
    {
     "data": {
      "text/plain": [
       "(50000, 4)"
      ]
     },
     "execution_count": 19,
     "metadata": {},
     "output_type": "execute_result"
    }
   ],
   "source": [
    "t2.shape"
   ]
  },
  {
   "cell_type": "code",
   "execution_count": 20,
   "metadata": {},
   "outputs": [
    {
     "data": {
      "text/plain": [
       "50000"
      ]
     },
     "execution_count": 20,
     "metadata": {},
     "output_type": "execute_result"
    }
   ],
   "source": [
    "len(set(list(t2.uid)))"
   ]
  },
  {
   "cell_type": "code",
   "execution_count": 21,
   "metadata": {},
   "outputs": [
    {
     "data": {
      "text/plain": [
       "{0, 1}"
      ]
     },
     "execution_count": 21,
     "metadata": {},
     "output_type": "execute_result"
    }
   ],
   "source": [
    "set(list(t2.variant_number))"
   ]
  },
  {
   "cell_type": "code",
   "execution_count": 22,
   "metadata": {},
   "outputs": [
    {
     "data": {
      "text/plain": [
       "1"
      ]
     },
     "execution_count": 22,
     "metadata": {},
     "output_type": "execute_result"
    }
   ],
   "source": [
    "len(set(list(t2.dt)))"
   ]
  },
  {
   "cell_type": "code",
   "execution_count": 23,
   "metadata": {},
   "outputs": [
    {
     "data": {
      "text/plain": [
       "count                   50000\n",
       "unique                      1\n",
       "top       2019-02-06 00:00:00\n",
       "freq                    50000\n",
       "first     2019-02-06 00:00:00\n",
       "last      2019-02-06 00:00:00\n",
       "Name: dt, dtype: object"
      ]
     },
     "execution_count": 23,
     "metadata": {},
     "output_type": "execute_result"
    }
   ],
   "source": [
    "pd.to_datetime(t2.dt).describe()"
   ]
  },
  {
   "cell_type": "code",
   "execution_count": 24,
   "metadata": {},
   "outputs": [
    {
     "data": {
      "text/plain": [
       "2679"
      ]
     },
     "execution_count": 24,
     "metadata": {},
     "output_type": "execute_result"
    }
   ],
   "source": [
    "len(set(list(t2.signup_date)))"
   ]
  },
  {
   "cell_type": "code",
   "execution_count": 25,
   "metadata": {},
   "outputs": [],
   "source": [
    "t2[\"days_from_experiment\"] = pd.to_datetime(t2.dt) - pd.to_datetime(t2.signup_date)"
   ]
  },
  {
   "cell_type": "code",
   "execution_count": 26,
   "metadata": {},
   "outputs": [
    {
     "data": {
      "text/html": [
       "<div>\n",
       "<style scoped>\n",
       "    .dataframe tbody tr th:only-of-type {\n",
       "        vertical-align: middle;\n",
       "    }\n",
       "\n",
       "    .dataframe tbody tr th {\n",
       "        vertical-align: top;\n",
       "    }\n",
       "\n",
       "    .dataframe thead th {\n",
       "        text-align: right;\n",
       "    }\n",
       "</style>\n",
       "<table border=\"1\" class=\"dataframe\">\n",
       "  <thead>\n",
       "    <tr style=\"text-align: right;\">\n",
       "      <th></th>\n",
       "      <th>uid</th>\n",
       "      <th>variant_number</th>\n",
       "      <th>dt</th>\n",
       "      <th>signup_date</th>\n",
       "      <th>days_from_experiment</th>\n",
       "    </tr>\n",
       "  </thead>\n",
       "  <tbody>\n",
       "    <tr>\n",
       "      <th>0</th>\n",
       "      <td>0</td>\n",
       "      <td>0</td>\n",
       "      <td>2019-02-06</td>\n",
       "      <td>2018-09-24</td>\n",
       "      <td>135 days</td>\n",
       "    </tr>\n",
       "    <tr>\n",
       "      <th>1</th>\n",
       "      <td>1</td>\n",
       "      <td>0</td>\n",
       "      <td>2019-02-06</td>\n",
       "      <td>2016-11-07</td>\n",
       "      <td>821 days</td>\n",
       "    </tr>\n",
       "    <tr>\n",
       "      <th>2</th>\n",
       "      <td>2</td>\n",
       "      <td>0</td>\n",
       "      <td>2019-02-06</td>\n",
       "      <td>2018-09-17</td>\n",
       "      <td>142 days</td>\n",
       "    </tr>\n",
       "    <tr>\n",
       "      <th>3</th>\n",
       "      <td>3</td>\n",
       "      <td>0</td>\n",
       "      <td>2019-02-06</td>\n",
       "      <td>2018-03-04</td>\n",
       "      <td>339 days</td>\n",
       "    </tr>\n",
       "    <tr>\n",
       "      <th>4</th>\n",
       "      <td>4</td>\n",
       "      <td>0</td>\n",
       "      <td>2019-02-06</td>\n",
       "      <td>2017-03-09</td>\n",
       "      <td>699 days</td>\n",
       "    </tr>\n",
       "  </tbody>\n",
       "</table>\n",
       "</div>"
      ],
      "text/plain": [
       "   uid  variant_number          dt signup_date days_from_experiment\n",
       "0    0               0  2019-02-06  2018-09-24             135 days\n",
       "1    1               0  2019-02-06  2016-11-07             821 days\n",
       "2    2               0  2019-02-06  2018-09-17             142 days\n",
       "3    3               0  2019-02-06  2018-03-04             339 days\n",
       "4    4               0  2019-02-06  2017-03-09             699 days"
      ]
     },
     "execution_count": 26,
     "metadata": {},
     "output_type": "execute_result"
    }
   ],
   "source": [
    "t2.head()"
   ]
  },
  {
   "cell_type": "code",
   "execution_count": 27,
   "metadata": {},
   "outputs": [],
   "source": [
    "t2.days_from_experiment = t2.days_from_experiment.astype('timedelta64[D]')"
   ]
  },
  {
   "cell_type": "code",
   "execution_count": 28,
   "metadata": {},
   "outputs": [
    {
     "data": {
      "text/plain": [
       "<matplotlib.axes._subplots.AxesSubplot at 0x1a2716eba8>"
      ]
     },
     "execution_count": 28,
     "metadata": {},
     "output_type": "execute_result"
    },
    {
     "data": {
      "image/png": "[encoded data removed]",
      "text/plain": [
       "<Figure size 432x288 with 1 Axes>"
      ]
     },
     "metadata": {
      "needs_background": "light"
     },
     "output_type": "display_data"
    }
   ],
   "source": [
    "sns.boxplot(t2.days_from_experiment)"
   ]
  },
  {
   "cell_type": "code",
   "execution_count": 29,
   "metadata": {},
   "outputs": [
    {
     "data": {
      "text/plain": [
       "0.00        2.00\n",
       "0.05       12.00\n",
       "0.10       25.00\n",
       "0.25      131.00\n",
       "0.50      417.00\n",
       "0.75      936.00\n",
       "0.90     1501.10\n",
       "0.95     1939.00\n",
       "0.99     2375.01\n",
       "1.00    17933.00\n",
       "Name: days_from_experiment, dtype: float64"
      ]
     },
     "execution_count": 29,
     "metadata": {},
     "output_type": "execute_result"
    }
   ],
   "source": [
    "t2.days_from_experiment.quantile([0,.05,.1,.25,.5,.75,.9,.95,.99,1])"
   ]
  },
  {
   "cell_type": "code",
   "execution_count": 30,
   "metadata": {},
   "outputs": [
    {
     "data": {
      "text/html": [
       "<div>\n",
       "<style scoped>\n",
       "    .dataframe tbody tr th:only-of-type {\n",
       "        vertical-align: middle;\n",
       "    }\n",
       "\n",
       "    .dataframe tbody tr th {\n",
       "        vertical-align: top;\n",
       "    }\n",
       "\n",
       "    .dataframe thead th {\n",
       "        text-align: right;\n",
       "    }\n",
       "</style>\n",
       "<table border=\"1\" class=\"dataframe\">\n",
       "  <thead>\n",
       "    <tr style=\"text-align: right;\">\n",
       "      <th></th>\n",
       "      <th>uid</th>\n",
       "      <th>variant_number</th>\n",
       "      <th>dt</th>\n",
       "      <th>signup_date</th>\n",
       "      <th>days_from_experiment</th>\n",
       "    </tr>\n",
       "  </thead>\n",
       "  <tbody>\n",
       "    <tr>\n",
       "      <th>8001</th>\n",
       "      <td>8001</td>\n",
       "      <td>0</td>\n",
       "      <td>2019-02-06</td>\n",
       "      <td>1970-01-01</td>\n",
       "      <td>17933.0</td>\n",
       "    </tr>\n",
       "    <tr>\n",
       "      <th>20758</th>\n",
       "      <td>20758</td>\n",
       "      <td>0</td>\n",
       "      <td>2019-02-06</td>\n",
       "      <td>1970-01-01</td>\n",
       "      <td>17933.0</td>\n",
       "    </tr>\n",
       "    <tr>\n",
       "      <th>33854</th>\n",
       "      <td>33854</td>\n",
       "      <td>0</td>\n",
       "      <td>2019-02-06</td>\n",
       "      <td>2009-12-03</td>\n",
       "      <td>3352.0</td>\n",
       "    </tr>\n",
       "    <tr>\n",
       "      <th>32802</th>\n",
       "      <td>32802</td>\n",
       "      <td>0</td>\n",
       "      <td>2019-02-06</td>\n",
       "      <td>2010-01-06</td>\n",
       "      <td>3318.0</td>\n",
       "    </tr>\n",
       "    <tr>\n",
       "      <th>14980</th>\n",
       "      <td>14980</td>\n",
       "      <td>0</td>\n",
       "      <td>2019-02-06</td>\n",
       "      <td>2010-01-14</td>\n",
       "      <td>3310.0</td>\n",
       "    </tr>\n",
       "  </tbody>\n",
       "</table>\n",
       "</div>"
      ],
      "text/plain": [
       "         uid  variant_number          dt signup_date  days_from_experiment\n",
       "8001    8001               0  2019-02-06  1970-01-01               17933.0\n",
       "20758  20758               0  2019-02-06  1970-01-01               17933.0\n",
       "33854  33854               0  2019-02-06  2009-12-03                3352.0\n",
       "32802  32802               0  2019-02-06  2010-01-06                3318.0\n",
       "14980  14980               0  2019-02-06  2010-01-14                3310.0"
      ]
     },
     "execution_count": 30,
     "metadata": {},
     "output_type": "execute_result"
    }
   ],
   "source": [
    "t2.sort_values('days_from_experiment', ascending=False).head()"
   ]
  },
  {
   "cell_type": "code",
   "execution_count": 31,
   "metadata": {},
   "outputs": [],
   "source": [
    "# Replace values with signup before 2009 (Quora started in 2009!) using median substitution\n",
    "t2.loc[t2['days_from_experiment'] > 3650, 'days_from_experiment'] = t2.days_from_experiment.median()\n",
    "t2.loc[t2['uid'].isin([8001, 20758]), 'signup_date'] = (pd.to_datetime('2019-02-06') \n",
    "                                                        - timedelta(days = t2.days_from_experiment.median())).strftime('%Y-%m-%d')"
   ]
  },
  {
   "cell_type": "code",
   "execution_count": 32,
   "metadata": {},
   "outputs": [],
   "source": [
    "## Note: 8001, 20758 were treated"
   ]
  },
  {
   "cell_type": "code",
   "execution_count": 33,
   "metadata": {},
   "outputs": [
    {
     "data": {
      "text/plain": [
       "<matplotlib.axes._subplots.AxesSubplot at 0x1a29db8ba8>"
      ]
     },
     "execution_count": 33,
     "metadata": {},
     "output_type": "execute_result"
    },
    {
     "data": {
      "image/png": "[encoded data removed]",
      "text/plain": [
       "<Figure size 432x288 with 1 Axes>"
      ]
     },
     "metadata": {
      "needs_background": "light"
     },
     "output_type": "display_data"
    }
   ],
   "source": [
    "sns.violinplot(t2.days_from_experiment)"
   ]
  },
  {
   "cell_type": "markdown",
   "metadata": {},
   "source": [
    "t3_user_active_min_pre.csv\n",
    "---\n",
    "This table contains active minutes data before the experiment started.\n",
    "It has a similar format as t1, except the dt range can extend before the experiment start date.\n",
    "- uid: user ID\n",
    "- dt: date when corresponding active minutes are registered\n",
    "- active_mins: number of minutes spent on site for the date"
   ]
  },
  {
   "cell_type": "code",
   "execution_count": 34,
   "metadata": {},
   "outputs": [
    {
     "data": {
      "text/html": [
       "<div>\n",
       "<style scoped>\n",
       "    .dataframe tbody tr th:only-of-type {\n",
       "        vertical-align: middle;\n",
       "    }\n",
       "\n",
       "    .dataframe tbody tr th {\n",
       "        vertical-align: top;\n",
       "    }\n",
       "\n",
       "    .dataframe thead th {\n",
       "        text-align: right;\n",
       "    }\n",
       "</style>\n",
       "<table border=\"1\" class=\"dataframe\">\n",
       "  <thead>\n",
       "    <tr style=\"text-align: right;\">\n",
       "      <th></th>\n",
       "      <th>uid</th>\n",
       "      <th>dt</th>\n",
       "      <th>active_mins</th>\n",
       "    </tr>\n",
       "  </thead>\n",
       "  <tbody>\n",
       "    <tr>\n",
       "      <th>0</th>\n",
       "      <td>0</td>\n",
       "      <td>2018-09-24</td>\n",
       "      <td>3.0</td>\n",
       "    </tr>\n",
       "    <tr>\n",
       "      <th>1</th>\n",
       "      <td>0</td>\n",
       "      <td>2018-11-08</td>\n",
       "      <td>4.0</td>\n",
       "    </tr>\n",
       "    <tr>\n",
       "      <th>2</th>\n",
       "      <td>0</td>\n",
       "      <td>2018-11-24</td>\n",
       "      <td>3.0</td>\n",
       "    </tr>\n",
       "    <tr>\n",
       "      <th>3</th>\n",
       "      <td>0</td>\n",
       "      <td>2018-11-28</td>\n",
       "      <td>6.0</td>\n",
       "    </tr>\n",
       "    <tr>\n",
       "      <th>4</th>\n",
       "      <td>0</td>\n",
       "      <td>2018-12-02</td>\n",
       "      <td>6.0</td>\n",
       "    </tr>\n",
       "  </tbody>\n",
       "</table>\n",
       "</div>"
      ],
      "text/plain": [
       "   uid          dt  active_mins\n",
       "0    0  2018-09-24          3.0\n",
       "1    0  2018-11-08          4.0\n",
       "2    0  2018-11-24          3.0\n",
       "3    0  2018-11-28          6.0\n",
       "4    0  2018-12-02          6.0"
      ]
     },
     "execution_count": 34,
     "metadata": {},
     "output_type": "execute_result"
    }
   ],
   "source": [
    "t3.head()"
   ]
  },
  {
   "cell_type": "code",
   "execution_count": 35,
   "metadata": {},
   "outputs": [
    {
     "data": {
      "text/plain": [
       "Index([], dtype='object')"
      ]
     },
     "execution_count": 35,
     "metadata": {},
     "output_type": "execute_result"
    }
   ],
   "source": [
    "t3.columns[t3.isnull().any()]"
   ]
  },
  {
   "cell_type": "code",
   "execution_count": 36,
   "metadata": {},
   "outputs": [
    {
     "data": {
      "text/plain": [
       "(1190093, 3)"
      ]
     },
     "execution_count": 36,
     "metadata": {},
     "output_type": "execute_result"
    }
   ],
   "source": [
    "t3.shape"
   ]
  },
  {
   "cell_type": "code",
   "execution_count": 37,
   "metadata": {},
   "outputs": [
    {
     "data": {
      "text/plain": [
       "49697"
      ]
     },
     "execution_count": 37,
     "metadata": {},
     "output_type": "execute_result"
    }
   ],
   "source": [
    "len(set(list(t3.uid)))"
   ]
  },
  {
   "cell_type": "code",
   "execution_count": 38,
   "metadata": {},
   "outputs": [
    {
     "data": {
      "text/plain": [
       "180"
      ]
     },
     "execution_count": 38,
     "metadata": {},
     "output_type": "execute_result"
    }
   ],
   "source": [
    "len(set(list(t3.dt)))"
   ]
  },
  {
   "cell_type": "code",
   "execution_count": 39,
   "metadata": {},
   "outputs": [
    {
     "data": {
      "text/plain": [
       "count                 1190093\n",
       "unique                    180\n",
       "top       2019-02-01 00:00:00\n",
       "freq                     9175\n",
       "first     2018-08-10 00:00:00\n",
       "last      2019-02-05 00:00:00\n",
       "Name: dt, dtype: object"
      ]
     },
     "execution_count": 39,
     "metadata": {},
     "output_type": "execute_result"
    }
   ],
   "source": [
    "pd.to_datetime(t3.dt).describe()"
   ]
  },
  {
   "cell_type": "code",
   "execution_count": 40,
   "metadata": {},
   "outputs": [],
   "source": [
    "# reduce the time range to match the experiment time window\n",
    "t3 = t3[pd.to_datetime(t3.dt)>=(pd.to_datetime(t3.dt).max()  - timedelta(days = 149))]"
   ]
  },
  {
   "cell_type": "code",
   "execution_count": 41,
   "metadata": {},
   "outputs": [
    {
     "data": {
      "text/plain": [
       "Timedelta('149 days 00:00:00')"
      ]
     },
     "execution_count": 41,
     "metadata": {},
     "output_type": "execute_result"
    }
   ],
   "source": [
    "pd.to_datetime(t3.dt).max() - pd.to_datetime(t3.dt).min()"
   ]
  },
  {
   "cell_type": "code",
   "execution_count": 42,
   "metadata": {},
   "outputs": [
    {
     "data": {
      "text/plain": [
       "<matplotlib.axes._subplots.AxesSubplot at 0x1a28162860>"
      ]
     },
     "execution_count": 42,
     "metadata": {},
     "output_type": "execute_result"
    },
    {
     "data": {
      "image/png": "[encoded data removed]",
      "text/plain": [
       "<Figure size 432x288 with 1 Axes>"
      ]
     },
     "metadata": {
      "needs_background": "light"
     },
     "output_type": "display_data"
    }
   ],
   "source": [
    "sns.boxplot(t3.active_mins)"
   ]
  },
  {
   "cell_type": "code",
   "execution_count": 43,
   "metadata": {},
   "outputs": [
    {
     "data": {
      "text/plain": [
       "0.00        1.0\n",
       "0.05        1.0\n",
       "0.10        1.0\n",
       "0.25        2.0\n",
       "0.50        4.0\n",
       "0.75       14.0\n",
       "0.90       45.0\n",
       "0.95       82.0\n",
       "0.99      210.0\n",
       "1.00    99999.0\n",
       "Name: active_mins, dtype: float64"
      ]
     },
     "execution_count": 43,
     "metadata": {},
     "output_type": "execute_result"
    }
   ],
   "source": [
    "t3.active_mins.quantile([0,.05,.1,.25,.5,.75,.9,.95,.99,1])"
   ]
  },
  {
   "cell_type": "code",
   "execution_count": 44,
   "metadata": {},
   "outputs": [],
   "source": [
    "# remove extreme outliers - user can't be online in a day for more than 1440 minutes\n",
    "t3 = t3[t3.active_mins<=1440]"
   ]
  },
  {
   "cell_type": "code",
   "execution_count": 45,
   "metadata": {},
   "outputs": [
    {
     "data": {
      "text/plain": [
       "<matplotlib.axes._subplots.AxesSubplot at 0x1a32424320>"
      ]
     },
     "execution_count": 45,
     "metadata": {},
     "output_type": "execute_result"
    },
    {
     "data": {
      "image/png": "[encoded data removed]",
      "text/plain": [
       "<Figure size 432x288 with 1 Axes>"
      ]
     },
     "metadata": {
      "needs_background": "light"
     },
     "output_type": "display_data"
    }
   ],
   "source": [
    "sns.violinplot(t3.active_mins)"
   ]
  },
  {
   "cell_type": "code",
   "execution_count": 46,
   "metadata": {},
   "outputs": [
    {
     "data": {
      "text/plain": [
       "0.00      1.0\n",
       "0.05      1.0\n",
       "0.10      1.0\n",
       "0.25      2.0\n",
       "0.50      4.0\n",
       "0.75     14.0\n",
       "0.90     45.0\n",
       "0.95     82.0\n",
       "0.99    209.0\n",
       "1.00    897.0\n",
       "Name: active_mins, dtype: float64"
      ]
     },
     "execution_count": 46,
     "metadata": {},
     "output_type": "execute_result"
    }
   ],
   "source": [
    "t3.active_mins.quantile([0,.05,.1,.25,.5,.75,.9,.95,.99,1])"
   ]
  },
  {
   "cell_type": "markdown",
   "metadata": {},
   "source": [
    "t4_user_attributes.csv\n",
    "---\n",
    "This table contains data about some user attributes.\n",
    "Each row represents attributes of a unique user.\n",
    "- uid: user ID\n",
    "- user_type: segment that a user belongs to, measured by activity level of the user. Can be ‘new_user’, ‘non_reader’, ‘reader’ or ‘contributor’\n",
    "- gender: user gender. Can be ‘male’, ‘female’ or ‘unknown’"
   ]
  },
  {
   "cell_type": "code",
   "execution_count": 47,
   "metadata": {},
   "outputs": [
    {
     "data": {
      "text/html": [
       "<div>\n",
       "<style scoped>\n",
       "    .dataframe tbody tr th:only-of-type {\n",
       "        vertical-align: middle;\n",
       "    }\n",
       "\n",
       "    .dataframe tbody tr th {\n",
       "        vertical-align: top;\n",
       "    }\n",
       "\n",
       "    .dataframe thead th {\n",
       "        text-align: right;\n",
       "    }\n",
       "</style>\n",
       "<table border=\"1\" class=\"dataframe\">\n",
       "  <thead>\n",
       "    <tr style=\"text-align: right;\">\n",
       "      <th></th>\n",
       "      <th>uid</th>\n",
       "      <th>gender</th>\n",
       "      <th>user_type</th>\n",
       "    </tr>\n",
       "  </thead>\n",
       "  <tbody>\n",
       "    <tr>\n",
       "      <th>0</th>\n",
       "      <td>0</td>\n",
       "      <td>male</td>\n",
       "      <td>non_reader</td>\n",
       "    </tr>\n",
       "    <tr>\n",
       "      <th>1</th>\n",
       "      <td>1</td>\n",
       "      <td>male</td>\n",
       "      <td>reader</td>\n",
       "    </tr>\n",
       "    <tr>\n",
       "      <th>2</th>\n",
       "      <td>2</td>\n",
       "      <td>male</td>\n",
       "      <td>non_reader</td>\n",
       "    </tr>\n",
       "    <tr>\n",
       "      <th>3</th>\n",
       "      <td>3</td>\n",
       "      <td>male</td>\n",
       "      <td>non_reader</td>\n",
       "    </tr>\n",
       "    <tr>\n",
       "      <th>4</th>\n",
       "      <td>4</td>\n",
       "      <td>male</td>\n",
       "      <td>non_reader</td>\n",
       "    </tr>\n",
       "  </tbody>\n",
       "</table>\n",
       "</div>"
      ],
      "text/plain": [
       "   uid gender   user_type\n",
       "0    0   male  non_reader\n",
       "1    1   male      reader\n",
       "2    2   male  non_reader\n",
       "3    3   male  non_reader\n",
       "4    4   male  non_reader"
      ]
     },
     "execution_count": 47,
     "metadata": {},
     "output_type": "execute_result"
    }
   ],
   "source": [
    "t4.head()"
   ]
  },
  {
   "cell_type": "code",
   "execution_count": 48,
   "metadata": {},
   "outputs": [
    {
     "data": {
      "text/plain": [
       "Index([], dtype='object')"
      ]
     },
     "execution_count": 48,
     "metadata": {},
     "output_type": "execute_result"
    }
   ],
   "source": [
    "t4.columns[t4.isnull().any()]"
   ]
  },
  {
   "cell_type": "code",
   "execution_count": 49,
   "metadata": {},
   "outputs": [
    {
     "data": {
      "text/plain": [
       "(50000, 3)"
      ]
     },
     "execution_count": 49,
     "metadata": {},
     "output_type": "execute_result"
    }
   ],
   "source": [
    "t4.shape"
   ]
  },
  {
   "cell_type": "code",
   "execution_count": 50,
   "metadata": {},
   "outputs": [
    {
     "data": {
      "text/plain": [
       "50000"
      ]
     },
     "execution_count": 50,
     "metadata": {},
     "output_type": "execute_result"
    }
   ],
   "source": [
    "len(set(list(t4.uid)))"
   ]
  },
  {
   "cell_type": "code",
   "execution_count": 51,
   "metadata": {},
   "outputs": [
    {
     "data": {
      "text/plain": [
       "{'female', 'male', 'unknown'}"
      ]
     },
     "execution_count": 51,
     "metadata": {},
     "output_type": "execute_result"
    }
   ],
   "source": [
    "set(list(t4.gender))"
   ]
  },
  {
   "cell_type": "code",
   "execution_count": 52,
   "metadata": {},
   "outputs": [
    {
     "data": {
      "text/plain": [
       "{'contributor', 'new_user', 'non_reader', 'reader'}"
      ]
     },
     "execution_count": 52,
     "metadata": {},
     "output_type": "execute_result"
    }
   ],
   "source": [
    "set(list(t4.user_type))"
   ]
  },
  {
   "cell_type": "markdown",
   "metadata": {},
   "source": [
    "## 2. Create datasets for analysis"
   ]
  },
  {
   "cell_type": "code",
   "execution_count": 53,
   "metadata": {},
   "outputs": [
    {
     "data": {
      "text/plain": [
       "set()"
      ]
     },
     "execution_count": 53,
     "metadata": {},
     "output_type": "execute_result"
    }
   ],
   "source": [
    "set(list(t2.uid)) - set(list(t4.uid))"
   ]
  },
  {
   "cell_type": "code",
   "execution_count": 54,
   "metadata": {},
   "outputs": [
    {
     "data": {
      "text/plain": [
       "set()"
      ]
     },
     "execution_count": 54,
     "metadata": {},
     "output_type": "execute_result"
    }
   ],
   "source": [
    "# two users were dropped because thier signup date was not available\n",
    "set(list(t4.uid)) - set(list(t2.uid))"
   ]
  },
  {
   "cell_type": "code",
   "execution_count": 55,
   "metadata": {},
   "outputs": [],
   "source": [
    "user_attributes = t2.merge(t4, on='uid')"
   ]
  },
  {
   "cell_type": "code",
   "execution_count": 56,
   "metadata": {},
   "outputs": [
    {
     "data": {
      "text/plain": [
       "(50000, 7)"
      ]
     },
     "execution_count": 56,
     "metadata": {},
     "output_type": "execute_result"
    }
   ],
   "source": [
    "user_attributes.shape"
   ]
  },
  {
   "cell_type": "code",
   "execution_count": 57,
   "metadata": {},
   "outputs": [],
   "source": [
    "user_attributes = user_attributes.drop('dt', axis=1)"
   ]
  },
  {
   "cell_type": "code",
   "execution_count": 58,
   "metadata": {},
   "outputs": [
    {
     "data": {
      "text/html": [
       "<div>\n",
       "<style scoped>\n",
       "    .dataframe tbody tr th:only-of-type {\n",
       "        vertical-align: middle;\n",
       "    }\n",
       "\n",
       "    .dataframe tbody tr th {\n",
       "        vertical-align: top;\n",
       "    }\n",
       "\n",
       "    .dataframe thead th {\n",
       "        text-align: right;\n",
       "    }\n",
       "</style>\n",
       "<table border=\"1\" class=\"dataframe\">\n",
       "  <thead>\n",
       "    <tr style=\"text-align: right;\">\n",
       "      <th></th>\n",
       "      <th>uid</th>\n",
       "      <th>variant_number</th>\n",
       "      <th>signup_date</th>\n",
       "      <th>days_from_experiment</th>\n",
       "      <th>gender</th>\n",
       "      <th>user_type</th>\n",
       "    </tr>\n",
       "  </thead>\n",
       "  <tbody>\n",
       "    <tr>\n",
       "      <th>0</th>\n",
       "      <td>0</td>\n",
       "      <td>0</td>\n",
       "      <td>2018-09-24</td>\n",
       "      <td>135.0</td>\n",
       "      <td>male</td>\n",
       "      <td>non_reader</td>\n",
       "    </tr>\n",
       "    <tr>\n",
       "      <th>1</th>\n",
       "      <td>1</td>\n",
       "      <td>0</td>\n",
       "      <td>2016-11-07</td>\n",
       "      <td>821.0</td>\n",
       "      <td>male</td>\n",
       "      <td>reader</td>\n",
       "    </tr>\n",
       "    <tr>\n",
       "      <th>2</th>\n",
       "      <td>2</td>\n",
       "      <td>0</td>\n",
       "      <td>2018-09-17</td>\n",
       "      <td>142.0</td>\n",
       "      <td>male</td>\n",
       "      <td>non_reader</td>\n",
       "    </tr>\n",
       "    <tr>\n",
       "      <th>3</th>\n",
       "      <td>3</td>\n",
       "      <td>0</td>\n",
       "      <td>2018-03-04</td>\n",
       "      <td>339.0</td>\n",
       "      <td>male</td>\n",
       "      <td>non_reader</td>\n",
       "    </tr>\n",
       "    <tr>\n",
       "      <th>4</th>\n",
       "      <td>4</td>\n",
       "      <td>0</td>\n",
       "      <td>2017-03-09</td>\n",
       "      <td>699.0</td>\n",
       "      <td>male</td>\n",
       "      <td>non_reader</td>\n",
       "    </tr>\n",
       "  </tbody>\n",
       "</table>\n",
       "</div>"
      ],
      "text/plain": [
       "   uid  variant_number signup_date  days_from_experiment gender   user_type\n",
       "0    0               0  2018-09-24                 135.0   male  non_reader\n",
       "1    1               0  2016-11-07                 821.0   male      reader\n",
       "2    2               0  2018-09-17                 142.0   male  non_reader\n",
       "3    3               0  2018-03-04                 339.0   male  non_reader\n",
       "4    4               0  2017-03-09                 699.0   male  non_reader"
      ]
     },
     "execution_count": 58,
     "metadata": {},
     "output_type": "execute_result"
    }
   ],
   "source": [
    "user_attributes.head()"
   ]
  },
  {
   "cell_type": "code",
   "execution_count": 59,
   "metadata": {},
   "outputs": [],
   "source": [
    "control = t3.groupby('uid', as_index=False).agg({'active_mins':sum})"
   ]
  },
  {
   "cell_type": "code",
   "execution_count": 60,
   "metadata": {},
   "outputs": [],
   "source": [
    "experiment = t1.groupby('uid', as_index=False).agg({'active_mins':sum})"
   ]
  },
  {
   "cell_type": "code",
   "execution_count": 61,
   "metadata": {},
   "outputs": [
    {
     "data": {
      "text/html": [
       "<div>\n",
       "<style scoped>\n",
       "    .dataframe tbody tr th:only-of-type {\n",
       "        vertical-align: middle;\n",
       "    }\n",
       "\n",
       "    .dataframe tbody tr th {\n",
       "        vertical-align: top;\n",
       "    }\n",
       "\n",
       "    .dataframe thead th {\n",
       "        text-align: right;\n",
       "    }\n",
       "</style>\n",
       "<table border=\"1\" class=\"dataframe\">\n",
       "  <thead>\n",
       "    <tr style=\"text-align: right;\">\n",
       "      <th></th>\n",
       "      <th>uid</th>\n",
       "      <th>active_mins</th>\n",
       "    </tr>\n",
       "  </thead>\n",
       "  <tbody>\n",
       "    <tr>\n",
       "      <th>0</th>\n",
       "      <td>0</td>\n",
       "      <td>43.0</td>\n",
       "    </tr>\n",
       "    <tr>\n",
       "      <th>1</th>\n",
       "      <td>1</td>\n",
       "      <td>15205.0</td>\n",
       "    </tr>\n",
       "    <tr>\n",
       "      <th>2</th>\n",
       "      <td>2</td>\n",
       "      <td>17.0</td>\n",
       "    </tr>\n",
       "    <tr>\n",
       "      <th>3</th>\n",
       "      <td>3</td>\n",
       "      <td>77.0</td>\n",
       "    </tr>\n",
       "    <tr>\n",
       "      <th>4</th>\n",
       "      <td>4</td>\n",
       "      <td>39.0</td>\n",
       "    </tr>\n",
       "  </tbody>\n",
       "</table>\n",
       "</div>"
      ],
      "text/plain": [
       "   uid  active_mins\n",
       "0    0         43.0\n",
       "1    1      15205.0\n",
       "2    2         17.0\n",
       "3    3         77.0\n",
       "4    4         39.0"
      ]
     },
     "execution_count": 61,
     "metadata": {},
     "output_type": "execute_result"
    }
   ],
   "source": [
    "experiment.head()"
   ]
  },
  {
   "cell_type": "code",
   "execution_count": 62,
   "metadata": {},
   "outputs": [
    {
     "data": {
      "text/html": [
       "<div>\n",
       "<style scoped>\n",
       "    .dataframe tbody tr th:only-of-type {\n",
       "        vertical-align: middle;\n",
       "    }\n",
       "\n",
       "    .dataframe tbody tr th {\n",
       "        vertical-align: top;\n",
       "    }\n",
       "\n",
       "    .dataframe thead th {\n",
       "        text-align: right;\n",
       "    }\n",
       "</style>\n",
       "<table border=\"1\" class=\"dataframe\">\n",
       "  <thead>\n",
       "    <tr style=\"text-align: right;\">\n",
       "      <th></th>\n",
       "      <th>uid</th>\n",
       "      <th>active_mins</th>\n",
       "    </tr>\n",
       "  </thead>\n",
       "  <tbody>\n",
       "    <tr>\n",
       "      <th>0</th>\n",
       "      <td>0</td>\n",
       "      <td>70.0</td>\n",
       "    </tr>\n",
       "    <tr>\n",
       "      <th>1</th>\n",
       "      <td>1</td>\n",
       "      <td>15618.0</td>\n",
       "    </tr>\n",
       "    <tr>\n",
       "      <th>2</th>\n",
       "      <td>2</td>\n",
       "      <td>37.0</td>\n",
       "    </tr>\n",
       "    <tr>\n",
       "      <th>3</th>\n",
       "      <td>3</td>\n",
       "      <td>29.0</td>\n",
       "    </tr>\n",
       "    <tr>\n",
       "      <th>4</th>\n",
       "      <td>4</td>\n",
       "      <td>57.0</td>\n",
       "    </tr>\n",
       "  </tbody>\n",
       "</table>\n",
       "</div>"
      ],
      "text/plain": [
       "   uid  active_mins\n",
       "0    0         70.0\n",
       "1    1      15618.0\n",
       "2    2         37.0\n",
       "3    3         29.0\n",
       "4    4         57.0"
      ]
     },
     "execution_count": 62,
     "metadata": {},
     "output_type": "execute_result"
    }
   ],
   "source": [
    "control.head()"
   ]
  },
  {
   "cell_type": "code",
   "execution_count": 63,
   "metadata": {},
   "outputs": [
    {
     "data": {
      "text/plain": [
       "0.00        1.00\n",
       "0.05        3.00\n",
       "0.10        6.00\n",
       "0.25       18.00\n",
       "0.50       55.00\n",
       "0.75      199.00\n",
       "0.90      856.80\n",
       "0.95     2181.40\n",
       "0.99     7805.08\n",
       "1.00    46742.00\n",
       "Name: active_mins, dtype: float64"
      ]
     },
     "execution_count": 63,
     "metadata": {},
     "output_type": "execute_result"
    }
   ],
   "source": [
    "experiment.active_mins.quantile([0,.05,.1,.25,.5,.75,.9,.95,.99,1])"
   ]
  },
  {
   "cell_type": "code",
   "execution_count": 64,
   "metadata": {},
   "outputs": [
    {
     "data": {
      "text/plain": [
       "<matplotlib.axes._subplots.AxesSubplot at 0x1a26b2ac50>"
      ]
     },
     "execution_count": 64,
     "metadata": {},
     "output_type": "execute_result"
    },
    {
     "data": {
      "image/png": "[encoded data removed]",
      "text/plain": [
       "<Figure size 432x288 with 1 Axes>"
      ]
     },
     "metadata": {
      "needs_background": "light"
     },
     "output_type": "display_data"
    }
   ],
   "source": [
    "sns.distplot(experiment.active_mins)"
   ]
  },
  {
   "cell_type": "code",
   "execution_count": 65,
   "metadata": {},
   "outputs": [],
   "source": [
    "# Experiment and control datasets with user attributes"
   ]
  },
  {
   "cell_type": "code",
   "execution_count": 66,
   "metadata": {},
   "outputs": [
    {
     "data": {
      "text/plain": [
       "49675"
      ]
     },
     "execution_count": 66,
     "metadata": {},
     "output_type": "execute_result"
    }
   ],
   "source": [
    "len(set(list(user_attributes.uid)).intersection(set(list(control.uid))))"
   ]
  },
  {
   "cell_type": "code",
   "execution_count": 67,
   "metadata": {},
   "outputs": [
    {
     "data": {
      "text/plain": [
       "(49675, 2)"
      ]
     },
     "execution_count": 67,
     "metadata": {},
     "output_type": "execute_result"
    }
   ],
   "source": [
    "control.shape"
   ]
  },
  {
   "cell_type": "code",
   "execution_count": 68,
   "metadata": {},
   "outputs": [],
   "source": [
    "control_attr = control.merge(user_attributes, on='uid', how='left')"
   ]
  },
  {
   "cell_type": "code",
   "execution_count": 69,
   "metadata": {},
   "outputs": [
    {
     "data": {
      "text/plain": [
       "(49675, 7)"
      ]
     },
     "execution_count": 69,
     "metadata": {},
     "output_type": "execute_result"
    }
   ],
   "source": [
    "control_attr.shape"
   ]
  },
  {
   "cell_type": "code",
   "execution_count": 70,
   "metadata": {},
   "outputs": [
    {
     "data": {
      "text/html": [
       "<div>\n",
       "<style scoped>\n",
       "    .dataframe tbody tr th:only-of-type {\n",
       "        vertical-align: middle;\n",
       "    }\n",
       "\n",
       "    .dataframe tbody tr th {\n",
       "        vertical-align: top;\n",
       "    }\n",
       "\n",
       "    .dataframe thead th {\n",
       "        text-align: right;\n",
       "    }\n",
       "</style>\n",
       "<table border=\"1\" class=\"dataframe\">\n",
       "  <thead>\n",
       "    <tr style=\"text-align: right;\">\n",
       "      <th></th>\n",
       "      <th>uid</th>\n",
       "      <th>active_mins</th>\n",
       "      <th>variant_number</th>\n",
       "      <th>signup_date</th>\n",
       "      <th>days_from_experiment</th>\n",
       "      <th>gender</th>\n",
       "      <th>user_type</th>\n",
       "    </tr>\n",
       "  </thead>\n",
       "  <tbody>\n",
       "    <tr>\n",
       "      <th>0</th>\n",
       "      <td>0</td>\n",
       "      <td>70.0</td>\n",
       "      <td>0</td>\n",
       "      <td>2018-09-24</td>\n",
       "      <td>135.0</td>\n",
       "      <td>male</td>\n",
       "      <td>non_reader</td>\n",
       "    </tr>\n",
       "    <tr>\n",
       "      <th>1</th>\n",
       "      <td>1</td>\n",
       "      <td>15618.0</td>\n",
       "      <td>0</td>\n",
       "      <td>2016-11-07</td>\n",
       "      <td>821.0</td>\n",
       "      <td>male</td>\n",
       "      <td>reader</td>\n",
       "    </tr>\n",
       "    <tr>\n",
       "      <th>2</th>\n",
       "      <td>2</td>\n",
       "      <td>37.0</td>\n",
       "      <td>0</td>\n",
       "      <td>2018-09-17</td>\n",
       "      <td>142.0</td>\n",
       "      <td>male</td>\n",
       "      <td>non_reader</td>\n",
       "    </tr>\n",
       "    <tr>\n",
       "      <th>3</th>\n",
       "      <td>3</td>\n",
       "      <td>29.0</td>\n",
       "      <td>0</td>\n",
       "      <td>2018-03-04</td>\n",
       "      <td>339.0</td>\n",
       "      <td>male</td>\n",
       "      <td>non_reader</td>\n",
       "    </tr>\n",
       "    <tr>\n",
       "      <th>4</th>\n",
       "      <td>4</td>\n",
       "      <td>57.0</td>\n",
       "      <td>0</td>\n",
       "      <td>2017-03-09</td>\n",
       "      <td>699.0</td>\n",
       "      <td>male</td>\n",
       "      <td>non_reader</td>\n",
       "    </tr>\n",
       "  </tbody>\n",
       "</table>\n",
       "</div>"
      ],
      "text/plain": [
       "   uid  active_mins  variant_number signup_date  days_from_experiment gender  \\\n",
       "0    0         70.0               0  2018-09-24                 135.0   male   \n",
       "1    1      15618.0               0  2016-11-07                 821.0   male   \n",
       "2    2         37.0               0  2018-09-17                 142.0   male   \n",
       "3    3         29.0               0  2018-03-04                 339.0   male   \n",
       "4    4         57.0               0  2017-03-09                 699.0   male   \n",
       "\n",
       "    user_type  \n",
       "0  non_reader  \n",
       "1      reader  \n",
       "2  non_reader  \n",
       "3  non_reader  \n",
       "4  non_reader  "
      ]
     },
     "execution_count": 70,
     "metadata": {},
     "output_type": "execute_result"
    }
   ],
   "source": [
    "control_attr.head()"
   ]
  },
  {
   "cell_type": "code",
   "execution_count": 71,
   "metadata": {},
   "outputs": [
    {
     "data": {
      "text/plain": [
       "46633"
      ]
     },
     "execution_count": 71,
     "metadata": {},
     "output_type": "execute_result"
    }
   ],
   "source": [
    "len(set(list(user_attributes.uid)).intersection(set(list(experiment.uid))))"
   ]
  },
  {
   "cell_type": "code",
   "execution_count": 72,
   "metadata": {},
   "outputs": [
    {
     "data": {
      "text/plain": [
       "(46633, 2)"
      ]
     },
     "execution_count": 72,
     "metadata": {},
     "output_type": "execute_result"
    }
   ],
   "source": [
    "experiment.shape"
   ]
  },
  {
   "cell_type": "code",
   "execution_count": 73,
   "metadata": {},
   "outputs": [],
   "source": [
    "experiment_attr = experiment.merge(user_attributes, on='uid', how='left')"
   ]
  },
  {
   "cell_type": "code",
   "execution_count": 74,
   "metadata": {},
   "outputs": [
    {
     "data": {
      "text/plain": [
       "(46633, 7)"
      ]
     },
     "execution_count": 74,
     "metadata": {},
     "output_type": "execute_result"
    }
   ],
   "source": [
    "experiment_attr.shape"
   ]
  },
  {
   "cell_type": "code",
   "execution_count": 75,
   "metadata": {},
   "outputs": [
    {
     "data": {
      "text/html": [
       "<div>\n",
       "<style scoped>\n",
       "    .dataframe tbody tr th:only-of-type {\n",
       "        vertical-align: middle;\n",
       "    }\n",
       "\n",
       "    .dataframe tbody tr th {\n",
       "        vertical-align: top;\n",
       "    }\n",
       "\n",
       "    .dataframe thead th {\n",
       "        text-align: right;\n",
       "    }\n",
       "</style>\n",
       "<table border=\"1\" class=\"dataframe\">\n",
       "  <thead>\n",
       "    <tr style=\"text-align: right;\">\n",
       "      <th></th>\n",
       "      <th>uid</th>\n",
       "      <th>active_mins</th>\n",
       "      <th>variant_number</th>\n",
       "      <th>signup_date</th>\n",
       "      <th>days_from_experiment</th>\n",
       "      <th>gender</th>\n",
       "      <th>user_type</th>\n",
       "    </tr>\n",
       "  </thead>\n",
       "  <tbody>\n",
       "    <tr>\n",
       "      <th>0</th>\n",
       "      <td>0</td>\n",
       "      <td>43.0</td>\n",
       "      <td>0</td>\n",
       "      <td>2018-09-24</td>\n",
       "      <td>135.0</td>\n",
       "      <td>male</td>\n",
       "      <td>non_reader</td>\n",
       "    </tr>\n",
       "    <tr>\n",
       "      <th>1</th>\n",
       "      <td>1</td>\n",
       "      <td>15205.0</td>\n",
       "      <td>0</td>\n",
       "      <td>2016-11-07</td>\n",
       "      <td>821.0</td>\n",
       "      <td>male</td>\n",
       "      <td>reader</td>\n",
       "    </tr>\n",
       "    <tr>\n",
       "      <th>2</th>\n",
       "      <td>2</td>\n",
       "      <td>17.0</td>\n",
       "      <td>0</td>\n",
       "      <td>2018-09-17</td>\n",
       "      <td>142.0</td>\n",
       "      <td>male</td>\n",
       "      <td>non_reader</td>\n",
       "    </tr>\n",
       "    <tr>\n",
       "      <th>3</th>\n",
       "      <td>3</td>\n",
       "      <td>77.0</td>\n",
       "      <td>0</td>\n",
       "      <td>2018-03-04</td>\n",
       "      <td>339.0</td>\n",
       "      <td>male</td>\n",
       "      <td>non_reader</td>\n",
       "    </tr>\n",
       "    <tr>\n",
       "      <th>4</th>\n",
       "      <td>4</td>\n",
       "      <td>39.0</td>\n",
       "      <td>0</td>\n",
       "      <td>2017-03-09</td>\n",
       "      <td>699.0</td>\n",
       "      <td>male</td>\n",
       "      <td>non_reader</td>\n",
       "    </tr>\n",
       "  </tbody>\n",
       "</table>\n",
       "</div>"
      ],
      "text/plain": [
       "   uid  active_mins  variant_number signup_date  days_from_experiment gender  \\\n",
       "0    0         43.0               0  2018-09-24                 135.0   male   \n",
       "1    1      15205.0               0  2016-11-07                 821.0   male   \n",
       "2    2         17.0               0  2018-09-17                 142.0   male   \n",
       "3    3         77.0               0  2018-03-04                 339.0   male   \n",
       "4    4         39.0               0  2017-03-09                 699.0   male   \n",
       "\n",
       "    user_type  \n",
       "0  non_reader  \n",
       "1      reader  \n",
       "2  non_reader  \n",
       "3  non_reader  \n",
       "4  non_reader  "
      ]
     },
     "execution_count": 75,
     "metadata": {},
     "output_type": "execute_result"
    }
   ],
   "source": [
    "experiment_attr.head()"
   ]
  },
  {
   "cell_type": "code",
   "execution_count": 76,
   "metadata": {},
   "outputs": [
    {
     "data": {
      "text/plain": [
       "<matplotlib.axes._subplots.AxesSubplot at 0x1a2a4620f0>"
      ]
     },
     "execution_count": 76,
     "metadata": {},
     "output_type": "execute_result"
    },
    {
     "data": {
      "image/png": "[encoded data removed]",
      "text/plain": [
       "<Figure size 504x504 with 1 Axes>"
      ]
     },
     "metadata": {
      "needs_background": "light"
     },
     "output_type": "display_data"
    }
   ],
   "source": [
    "from matplotlib import pyplot\n",
    "\n",
    "target_0 = experiment_attr.loc[experiment_attr['user_type'] == 'non_reader']\n",
    "target_1 = experiment_attr.loc[experiment_attr['user_type'] == 'reader']\n",
    "target_2 = experiment_attr.loc[experiment_attr['user_type'] == 'new_user']\n",
    "target_3 = experiment_attr.loc[experiment_attr['user_type'] == 'contributor']\n",
    "\n",
    "a4_dims = (7, 7)\n",
    "fig, ax = pyplot.subplots(figsize=a4_dims)\n",
    "\n",
    "sns.distplot(target_0[['active_mins']], hist=False, color='blue')\n",
    "sns.distplot(target_1[['active_mins']], hist=False, color= 'orange')\n",
    "sns.distplot(target_2[['active_mins']], hist=False, color= 'green')\n",
    "sns.distplot(target_3[['active_mins']], hist=False, color= 'red')"
   ]
  },
  {
   "cell_type": "code",
   "execution_count": 77,
   "metadata": {},
   "outputs": [
    {
     "data": {
      "text/plain": [
       "<matplotlib.axes._subplots.AxesSubplot at 0x1a2b5869e8>"
      ]
     },
     "execution_count": 77,
     "metadata": {},
     "output_type": "execute_result"
    },
    {
     "data": {
      "image/png": "[encoded data removed]",
      "text/plain": [
       "<Figure size 504x504 with 1 Axes>"
      ]
     },
     "metadata": {
      "needs_background": "light"
     },
     "output_type": "display_data"
    }
   ],
   "source": [
    "a4_dims = (7, 7)\n",
    "fig, ax = pyplot.subplots(figsize=a4_dims)\n",
    "sns.boxplot(y=experiment_attr.active_mins, x=experiment_attr.user_type, showfliers=False)"
   ]
  },
  {
   "cell_type": "code",
   "execution_count": 78,
   "metadata": {},
   "outputs": [],
   "source": [
    "# Observation: Contributers spend a lot more time on the platform, followed by readers"
   ]
  },
  {
   "cell_type": "code",
   "execution_count": 79,
   "metadata": {},
   "outputs": [
    {
     "data": {
      "text/plain": [
       "<matplotlib.axes._subplots.AxesSubplot at 0x1a316fafd0>"
      ]
     },
     "execution_count": 79,
     "metadata": {},
     "output_type": "execute_result"
    },
    {
     "data": {
      "image/png": "[encoded data removed]",
      "text/plain": [
       "<Figure size 504x504 with 1 Axes>"
      ]
     },
     "metadata": {
      "needs_background": "light"
     },
     "output_type": "display_data"
    }
   ],
   "source": [
    "target_0 = experiment_attr.loc[experiment_attr['gender'] == 'male']\n",
    "target_1 = experiment_attr.loc[experiment_attr['gender'] == 'female']\n",
    "target_2 = experiment_attr.loc[experiment_attr['gender'] == 'unknown']\n",
    "\n",
    "a4_dims = (7, 7)\n",
    "fig, ax = pyplot.subplots(figsize=a4_dims)\n",
    "\n",
    "sns.distplot(target_0[['active_mins']], hist=False, color='blue')\n",
    "sns.distplot(target_1[['active_mins']], hist=False, color= 'orange')\n",
    "sns.distplot(target_2[['active_mins']], hist=False, color= 'green')"
   ]
  },
  {
   "cell_type": "code",
   "execution_count": 80,
   "metadata": {},
   "outputs": [
    {
     "data": {
      "text/plain": [
       "<matplotlib.axes._subplots.AxesSubplot at 0x1a2bb78128>"
      ]
     },
     "execution_count": 80,
     "metadata": {},
     "output_type": "execute_result"
    },
    {
     "data": {
      "image/png": "[encoded data removed]",
      "text/plain": [
       "<Figure size 504x504 with 1 Axes>"
      ]
     },
     "metadata": {
      "needs_background": "light"
     },
     "output_type": "display_data"
    }
   ],
   "source": [
    "a4_dims = (7, 7)\n",
    "fig, ax = pyplot.subplots(figsize=a4_dims)\n",
    "sns.boxplot(y=experiment_attr.active_mins, x=experiment_attr.gender, showfliers=False)"
   ]
  },
  {
   "cell_type": "code",
   "execution_count": 81,
   "metadata": {},
   "outputs": [],
   "source": [
    "# Observation: men seem to spend more time on the platform"
   ]
  },
  {
   "cell_type": "code",
   "execution_count": 82,
   "metadata": {},
   "outputs": [
    {
     "data": {
      "text/plain": [
       "<matplotlib.axes._subplots.AxesSubplot at 0x1a2b5e6128>"
      ]
     },
     "execution_count": 82,
     "metadata": {},
     "output_type": "execute_result"
    },
    {
     "data": {
      "image/png": "[encoded data removed]",
      "text/plain": [
       "<Figure size 504x504 with 1 Axes>"
      ]
     },
     "metadata": {
      "needs_background": "light"
     },
     "output_type": "display_data"
    }
   ],
   "source": [
    "a4_dims = (7, 7)\n",
    "fig, ax = pyplot.subplots(figsize=a4_dims)\n",
    "\n",
    "sns.regplot(x=\"days_from_experiment\", y=\"active_mins\", data=experiment_attr,marker=\"+\", line_kws={'color': 'red'})"
   ]
  },
  {
   "cell_type": "code",
   "execution_count": 83,
   "metadata": {},
   "outputs": [],
   "source": [
    "# Observation: older users seem to spend more time on average on the platform"
   ]
  },
  {
   "cell_type": "code",
   "execution_count": 84,
   "metadata": {},
   "outputs": [
    {
     "data": {
      "text/plain": [
       "0.00        1.00\n",
       "0.05        3.00\n",
       "0.10        6.00\n",
       "0.25       16.00\n",
       "0.50       46.00\n",
       "0.75      155.00\n",
       "0.90      631.00\n",
       "0.95     1647.60\n",
       "0.99     6702.04\n",
       "1.00    40041.00\n",
       "Name: active_mins, dtype: float64"
      ]
     },
     "execution_count": 84,
     "metadata": {},
     "output_type": "execute_result"
    }
   ],
   "source": [
    "control.active_mins.quantile([0,.05,.1,.25,.5,.75,.9,.95,.99,1])"
   ]
  },
  {
   "cell_type": "code",
   "execution_count": 85,
   "metadata": {},
   "outputs": [
    {
     "data": {
      "text/plain": [
       "<matplotlib.axes._subplots.AxesSubplot at 0x1a2bbbb208>"
      ]
     },
     "execution_count": 85,
     "metadata": {},
     "output_type": "execute_result"
    },
    {
     "data": {
      "image/png": "[encoded data removed]",
      "text/plain": [
       "<Figure size 432x288 with 1 Axes>"
      ]
     },
     "metadata": {
      "needs_background": "light"
     },
     "output_type": "display_data"
    }
   ],
   "source": [
    "sns.distplot(control.active_mins)"
   ]
  },
  {
   "cell_type": "code",
   "execution_count": 86,
   "metadata": {},
   "outputs": [
    {
     "data": {
      "text/plain": [
       "<matplotlib.axes._subplots.AxesSubplot at 0x1a3178e048>"
      ]
     },
     "execution_count": 86,
     "metadata": {},
     "output_type": "execute_result"
    },
    {
     "data": {
      "image/png": "[encoded data removed]",
      "text/plain": [
       "<Figure size 504x504 with 1 Axes>"
      ]
     },
     "metadata": {
      "needs_background": "light"
     },
     "output_type": "display_data"
    }
   ],
   "source": [
    "target_0 = control_attr.loc[control_attr['user_type'] == 'non_reader']\n",
    "target_1 = control_attr.loc[control_attr['user_type'] == 'reader']\n",
    "target_2 = control_attr.loc[control_attr['user_type'] == 'new_user']\n",
    "target_3 = control_attr.loc[control_attr['user_type'] == 'contributor']\n",
    "\n",
    "a4_dims = (7, 7)\n",
    "fig, ax = pyplot.subplots(figsize=a4_dims)\n",
    "\n",
    "sns.distplot(target_0[['active_mins']], hist=False, color='blue')\n",
    "sns.distplot(target_1[['active_mins']], hist=False, color= 'orange')\n",
    "sns.distplot(target_2[['active_mins']], hist=False, color= 'green')\n",
    "sns.distplot(target_3[['active_mins']], hist=False, color= 'red')"
   ]
  },
  {
   "cell_type": "code",
   "execution_count": 87,
   "metadata": {},
   "outputs": [
    {
     "data": {
      "text/plain": [
       "<matplotlib.axes._subplots.AxesSubplot at 0x1a2ad115f8>"
      ]
     },
     "execution_count": 87,
     "metadata": {},
     "output_type": "execute_result"
    },
    {
     "data": {
      "image/png": "[encoded data removed]",
      "text/plain": [
       "<Figure size 504x504 with 1 Axes>"
      ]
     },
     "metadata": {
      "needs_background": "light"
     },
     "output_type": "display_data"
    }
   ],
   "source": [
    "a4_dims = (7, 7)\n",
    "fig, ax = pyplot.subplots(figsize=a4_dims)\n",
    "sns.boxplot(y=control_attr.active_mins, x=control_attr.user_type, showfliers=False)"
   ]
  },
  {
   "cell_type": "code",
   "execution_count": 88,
   "metadata": {},
   "outputs": [
    {
     "data": {
      "text/plain": [
       "<matplotlib.axes._subplots.AxesSubplot at 0x1a2a5b4c88>"
      ]
     },
     "execution_count": 88,
     "metadata": {},
     "output_type": "execute_result"
    },
    {
     "data": {
      "image/png": "[encoded data removed]",
      "text/plain": [
       "<Figure size 504x504 with 1 Axes>"
      ]
     },
     "metadata": {
      "needs_background": "light"
     },
     "output_type": "display_data"
    }
   ],
   "source": [
    "target_0 = control_attr.loc[control_attr['gender'] == 'male']\n",
    "target_1 = control_attr.loc[control_attr['gender'] == 'female']\n",
    "target_2 = control_attr.loc[control_attr['gender'] == 'unknown']\n",
    "\n",
    "a4_dims = (7, 7)\n",
    "fig, ax = pyplot.subplots(figsize=a4_dims)\n",
    "\n",
    "sns.distplot(target_0[['active_mins']], hist=False, color='blue')\n",
    "sns.distplot(target_1[['active_mins']], hist=False, color= 'orange')\n",
    "sns.distplot(target_2[['active_mins']], hist=False, color= 'green')"
   ]
  },
  {
   "cell_type": "code",
   "execution_count": 89,
   "metadata": {},
   "outputs": [
    {
     "data": {
      "text/plain": [
       "<matplotlib.axes._subplots.AxesSubplot at 0x1a2ab29128>"
      ]
     },
     "execution_count": 89,
     "metadata": {},
     "output_type": "execute_result"
    },
    {
     "data": {
      "image/png": "[encoded data removed]",
      "text/plain": [
       "<Figure size 504x504 with 1 Axes>"
      ]
     },
     "metadata": {
      "needs_background": "light"
     },
     "output_type": "display_data"
    }
   ],
   "source": [
    "a4_dims = (7, 7)\n",
    "fig, ax = pyplot.subplots(figsize=a4_dims)\n",
    "sns.boxplot(y=control_attr.active_mins, x=control_attr.gender, showfliers=False)"
   ]
  },
  {
   "cell_type": "code",
   "execution_count": 90,
   "metadata": {},
   "outputs": [
    {
     "data": {
      "text/plain": [
       "<matplotlib.axes._subplots.AxesSubplot at 0x1a318697b8>"
      ]
     },
     "execution_count": 90,
     "metadata": {},
     "output_type": "execute_result"
    },
    {
     "data": {
      "image/png": "[encoded data removed]",
      "text/plain": [
       "<Figure size 504x504 with 1 Axes>"
      ]
     },
     "metadata": {
      "needs_background": "light"
     },
     "output_type": "display_data"
    }
   ],
   "source": [
    "a4_dims = (7, 7)\n",
    "fig, ax = pyplot.subplots(figsize=a4_dims)\n",
    "\n",
    "sns.regplot(x=\"days_from_experiment\", y=\"active_mins\", data=control_attr,marker=\"+\", line_kws={'color': 'red'})"
   ]
  },
  {
   "cell_type": "markdown",
   "metadata": {},
   "source": [
    "## 3. Sanity checks for the experiment "
   ]
  },
  {
   "cell_type": "markdown",
   "metadata": {},
   "source": [
    "### 3.1 Are test and control randomized?"
   ]
  },
  {
   "cell_type": "markdown",
   "metadata": {},
   "source": [
    "#### 3.1.1. User attributes"
   ]
  },
  {
   "cell_type": "markdown",
   "metadata": {},
   "source": [
    "##### days on the platform"
   ]
  },
  {
   "cell_type": "code",
   "execution_count": 91,
   "metadata": {},
   "outputs": [
    {
     "data": {
      "text/html": [
       "<div>\n",
       "<style scoped>\n",
       "    .dataframe tbody tr th:only-of-type {\n",
       "        vertical-align: middle;\n",
       "    }\n",
       "\n",
       "    .dataframe tbody tr th {\n",
       "        vertical-align: top;\n",
       "    }\n",
       "\n",
       "    .dataframe thead tr th {\n",
       "        text-align: left;\n",
       "    }\n",
       "\n",
       "    .dataframe thead tr:last-of-type th {\n",
       "        text-align: right;\n",
       "    }\n",
       "</style>\n",
       "<table border=\"1\" class=\"dataframe\">\n",
       "  <thead>\n",
       "    <tr>\n",
       "      <th></th>\n",
       "      <th colspan=\"8\" halign=\"left\">days_from_experiment</th>\n",
       "    </tr>\n",
       "    <tr>\n",
       "      <th></th>\n",
       "      <th>count</th>\n",
       "      <th>mean</th>\n",
       "      <th>std</th>\n",
       "      <th>min</th>\n",
       "      <th>25%</th>\n",
       "      <th>50%</th>\n",
       "      <th>75%</th>\n",
       "      <th>max</th>\n",
       "    </tr>\n",
       "    <tr>\n",
       "      <th>variant_number</th>\n",
       "      <th></th>\n",
       "      <th></th>\n",
       "      <th></th>\n",
       "      <th></th>\n",
       "      <th></th>\n",
       "      <th></th>\n",
       "      <th></th>\n",
       "      <th></th>\n",
       "    </tr>\n",
       "  </thead>\n",
       "  <tbody>\n",
       "    <tr>\n",
       "      <th>0</th>\n",
       "      <td>40000.0</td>\n",
       "      <td>621.00015</td>\n",
       "      <td>607.963228</td>\n",
       "      <td>2.0</td>\n",
       "      <td>135.75</td>\n",
       "      <td>428.0</td>\n",
       "      <td>937.25</td>\n",
       "      <td>3352.0</td>\n",
       "    </tr>\n",
       "    <tr>\n",
       "      <th>1</th>\n",
       "      <td>10000.0</td>\n",
       "      <td>598.84600</td>\n",
       "      <td>607.062397</td>\n",
       "      <td>2.0</td>\n",
       "      <td>108.75</td>\n",
       "      <td>377.0</td>\n",
       "      <td>930.25</td>\n",
       "      <td>3179.0</td>\n",
       "    </tr>\n",
       "  </tbody>\n",
       "</table>\n",
       "</div>"
      ],
      "text/plain": [
       "               days_from_experiment                                      \\\n",
       "                              count       mean         std  min     25%   \n",
       "variant_number                                                            \n",
       "0                           40000.0  621.00015  607.963228  2.0  135.75   \n",
       "1                           10000.0  598.84600  607.062397  2.0  108.75   \n",
       "\n",
       "                                       \n",
       "                  50%     75%     max  \n",
       "variant_number                         \n",
       "0               428.0  937.25  3352.0  \n",
       "1               377.0  930.25  3179.0  "
      ]
     },
     "execution_count": 91,
     "metadata": {},
     "output_type": "execute_result"
    }
   ],
   "source": [
    "user_attributes[['variant_number', 'days_from_experiment']].groupby('variant_number').describe()"
   ]
  },
  {
   "cell_type": "code",
   "execution_count": 92,
   "metadata": {},
   "outputs": [
    {
     "data": {
      "text/plain": [
       "Ttest_indResult(statistic=3.260253790974953, pvalue=0.0011138698490600922)"
      ]
     },
     "execution_count": 92,
     "metadata": {},
     "output_type": "execute_result"
    }
   ],
   "source": [
    "from scipy import stats\n",
    "stats.ttest_ind(user_attributes[user_attributes.variant_number==0].days_from_experiment,\n",
    "                user_attributes[user_attributes.variant_number==1].days_from_experiment)"
   ]
  },
  {
   "cell_type": "code",
   "execution_count": 93,
   "metadata": {},
   "outputs": [],
   "source": [
    "# Observation: not balanced on age on the platform"
   ]
  },
  {
   "cell_type": "markdown",
   "metadata": {},
   "source": [
    "##### gender"
   ]
  },
  {
   "cell_type": "code",
   "execution_count": 94,
   "metadata": {},
   "outputs": [
    {
     "data": {
      "text/plain": [
       "male       0.55514\n",
       "female     0.28954\n",
       "unknown    0.15532\n",
       "Name: gender, dtype: float64"
      ]
     },
     "execution_count": 94,
     "metadata": {},
     "output_type": "execute_result"
    }
   ],
   "source": [
    "user_attributes.gender.value_counts(normalize=True)"
   ]
  },
  {
   "cell_type": "code",
   "execution_count": 95,
   "metadata": {},
   "outputs": [
    {
     "data": {
      "text/plain": [
       "male       0.555925\n",
       "female     0.290175\n",
       "unknown    0.153900\n",
       "Name: gender, dtype: float64"
      ]
     },
     "execution_count": 95,
     "metadata": {},
     "output_type": "execute_result"
    }
   ],
   "source": [
    "user_attributes[user_attributes.variant_number==0].gender.value_counts(normalize=True)"
   ]
  },
  {
   "cell_type": "code",
   "execution_count": 96,
   "metadata": {},
   "outputs": [
    {
     "data": {
      "text/plain": [
       "male       0.552\n",
       "female     0.287\n",
       "unknown    0.161\n",
       "Name: gender, dtype: float64"
      ]
     },
     "execution_count": 96,
     "metadata": {},
     "output_type": "execute_result"
    }
   ],
   "source": [
    "user_attributes[user_attributes.variant_number==1].gender.value_counts(normalize=True)"
   ]
  },
  {
   "cell_type": "code",
   "execution_count": 97,
   "metadata": {},
   "outputs": [],
   "source": [
    "male_v0= user_attributes[(user_attributes.variant_number==0) & (user_attributes.gender=='male')].shape[0]\n",
    "male_v1= user_attributes[(user_attributes.variant_number==1) & (user_attributes.gender=='male')].shape[0]\n",
    "v0 = user_attributes[(user_attributes.variant_number==0)].shape[0]\n",
    "v1 = user_attributes[(user_attributes.variant_number==1)].shape[0]"
   ]
  },
  {
   "cell_type": "code",
   "execution_count": 98,
   "metadata": {},
   "outputs": [
    {
     "name": "stdout",
     "output_type": "stream",
     "text": [
      "0.480\n"
     ]
    }
   ],
   "source": [
    "import numpy as np\n",
    "from statsmodels.stats.proportion import proportions_ztest\n",
    "\n",
    "count = np.array([male_v0, male_v1])\n",
    "nobs = np.array([v0, v1])\n",
    "stat, pval = proportions_ztest(count, nobs)\n",
    "print('{0:0.3f}'.format(pval))"
   ]
  },
  {
   "cell_type": "code",
   "execution_count": 99,
   "metadata": {},
   "outputs": [],
   "source": [
    "# Observation: balanced on gender"
   ]
  },
  {
   "cell_type": "markdown",
   "metadata": {},
   "source": [
    "##### user type"
   ]
  },
  {
   "cell_type": "code",
   "execution_count": 100,
   "metadata": {},
   "outputs": [
    {
     "data": {
      "text/plain": [
       "non_reader     0.72132\n",
       "reader         0.16004\n",
       "new_user       0.09776\n",
       "contributor    0.02088\n",
       "Name: user_type, dtype: float64"
      ]
     },
     "execution_count": 100,
     "metadata": {},
     "output_type": "execute_result"
    }
   ],
   "source": [
    "user_attributes.user_type.value_counts(normalize=True)"
   ]
  },
  {
   "cell_type": "code",
   "execution_count": 101,
   "metadata": {},
   "outputs": [
    {
     "data": {
      "text/plain": [
       "non_reader     0.717475\n",
       "reader         0.168325\n",
       "new_user       0.091325\n",
       "contributor    0.022875\n",
       "Name: user_type, dtype: float64"
      ]
     },
     "execution_count": 101,
     "metadata": {},
     "output_type": "execute_result"
    }
   ],
   "source": [
    "user_attributes[user_attributes.variant_number==0].user_type.value_counts(normalize=True)"
   ]
  },
  {
   "cell_type": "code",
   "execution_count": 102,
   "metadata": {},
   "outputs": [
    {
     "data": {
      "text/plain": [
       "non_reader     0.7367\n",
       "reader         0.1269\n",
       "new_user       0.1235\n",
       "contributor    0.0129\n",
       "Name: user_type, dtype: float64"
      ]
     },
     "execution_count": 102,
     "metadata": {},
     "output_type": "execute_result"
    }
   ],
   "source": [
    "user_attributes[user_attributes.variant_number==1].user_type.value_counts(normalize=True)"
   ]
  },
  {
   "cell_type": "code",
   "execution_count": 103,
   "metadata": {},
   "outputs": [],
   "source": [
    "contri_v0 = user_attributes[(user_attributes.variant_number==0) & (user_attributes.user_type=='contributor')].shape[0]\n",
    "contri_v1 = user_attributes[(user_attributes.variant_number==1) & (user_attributes.user_type=='contributor')].shape[0]"
   ]
  },
  {
   "cell_type": "code",
   "execution_count": 104,
   "metadata": {},
   "outputs": [],
   "source": [
    "nreader_v0 = user_attributes[(user_attributes.variant_number==0) & (user_attributes.user_type=='non_reader')].shape[0]\n",
    "nreader_v1 = user_attributes[(user_attributes.variant_number==1) & (user_attributes.user_type=='non_reader')].shape[0]"
   ]
  },
  {
   "cell_type": "code",
   "execution_count": 105,
   "metadata": {},
   "outputs": [
    {
     "name": "stdout",
     "output_type": "stream",
     "text": [
      "0.000\n"
     ]
    }
   ],
   "source": [
    "count = np.array([contri_v0, contri_v1])\n",
    "nobs = np.array([v0, v1])\n",
    "stat, pval = proportions_ztest(count, nobs)\n",
    "print('{0:0.3f}'.format(pval))"
   ]
  },
  {
   "cell_type": "code",
   "execution_count": 106,
   "metadata": {},
   "outputs": [
    {
     "name": "stdout",
     "output_type": "stream",
     "text": [
      "0.000\n"
     ]
    }
   ],
   "source": [
    "count = np.array([nreader_v0, nreader_v1])\n",
    "nobs = np.array([v0, v1])\n",
    "stat, pval = proportions_ztest(count, nobs)\n",
    "print('{0:0.3f}'.format(pval))"
   ]
  },
  {
   "cell_type": "code",
   "execution_count": 107,
   "metadata": {},
   "outputs": [],
   "source": [
    "# Observation: not balanced on user_type"
   ]
  },
  {
   "cell_type": "markdown",
   "metadata": {},
   "source": [
    "#### 3.1.2 Difference in active minutes between groups"
   ]
  },
  {
   "cell_type": "code",
   "execution_count": 108,
   "metadata": {},
   "outputs": [],
   "source": [
    "# Before the experiment"
   ]
  },
  {
   "cell_type": "code",
   "execution_count": 109,
   "metadata": {},
   "outputs": [
    {
     "data": {
      "text/html": [
       "<div>\n",
       "<style scoped>\n",
       "    .dataframe tbody tr th:only-of-type {\n",
       "        vertical-align: middle;\n",
       "    }\n",
       "\n",
       "    .dataframe tbody tr th {\n",
       "        vertical-align: top;\n",
       "    }\n",
       "\n",
       "    .dataframe thead tr th {\n",
       "        text-align: left;\n",
       "    }\n",
       "\n",
       "    .dataframe thead tr:last-of-type th {\n",
       "        text-align: right;\n",
       "    }\n",
       "</style>\n",
       "<table border=\"1\" class=\"dataframe\">\n",
       "  <thead>\n",
       "    <tr>\n",
       "      <th></th>\n",
       "      <th colspan=\"8\" halign=\"left\">active_mins</th>\n",
       "    </tr>\n",
       "    <tr>\n",
       "      <th></th>\n",
       "      <th>count</th>\n",
       "      <th>mean</th>\n",
       "      <th>std</th>\n",
       "      <th>min</th>\n",
       "      <th>25%</th>\n",
       "      <th>50%</th>\n",
       "      <th>75%</th>\n",
       "      <th>max</th>\n",
       "    </tr>\n",
       "    <tr>\n",
       "      <th>variant_number</th>\n",
       "      <th></th>\n",
       "      <th></th>\n",
       "      <th></th>\n",
       "      <th></th>\n",
       "      <th></th>\n",
       "      <th></th>\n",
       "      <th></th>\n",
       "      <th></th>\n",
       "    </tr>\n",
       "  </thead>\n",
       "  <tbody>\n",
       "    <tr>\n",
       "      <th>0</th>\n",
       "      <td>39757.0</td>\n",
       "      <td>410.516362</td>\n",
       "      <td>1554.101398</td>\n",
       "      <td>1.0</td>\n",
       "      <td>16.0</td>\n",
       "      <td>48.0</td>\n",
       "      <td>166.0</td>\n",
       "      <td>40041.0</td>\n",
       "    </tr>\n",
       "    <tr>\n",
       "      <th>1</th>\n",
       "      <td>9918.0</td>\n",
       "      <td>235.410365</td>\n",
       "      <td>925.178191</td>\n",
       "      <td>1.0</td>\n",
       "      <td>14.0</td>\n",
       "      <td>38.0</td>\n",
       "      <td>120.0</td>\n",
       "      <td>32597.0</td>\n",
       "    </tr>\n",
       "  </tbody>\n",
       "</table>\n",
       "</div>"
      ],
      "text/plain": [
       "               active_mins                                                   \\\n",
       "                     count        mean          std  min   25%   50%    75%   \n",
       "variant_number                                                                \n",
       "0                  39757.0  410.516362  1554.101398  1.0  16.0  48.0  166.0   \n",
       "1                   9918.0  235.410365   925.178191  1.0  14.0  38.0  120.0   \n",
       "\n",
       "                         \n",
       "                    max  \n",
       "variant_number           \n",
       "0               40041.0  \n",
       "1               32597.0  "
      ]
     },
     "execution_count": 109,
     "metadata": {},
     "output_type": "execute_result"
    }
   ],
   "source": [
    "control_attr[['variant_number', 'active_mins']].groupby('variant_number').describe()"
   ]
  },
  {
   "cell_type": "code",
   "execution_count": 110,
   "metadata": {},
   "outputs": [
    {
     "data": {
      "text/plain": [
       "Ttest_indResult(statistic=10.755620371275551, pvalue=5.970529665200043e-27)"
      ]
     },
     "execution_count": 110,
     "metadata": {},
     "output_type": "execute_result"
    }
   ],
   "source": [
    "# This doesn't take effect of other factors into consideration\n",
    "stats.ttest_ind(control_attr[control_attr.variant_number==0].active_mins,\n",
    "                control_attr[control_attr.variant_number==1].active_mins)"
   ]
  },
  {
   "cell_type": "code",
   "execution_count": 111,
   "metadata": {},
   "outputs": [
    {
     "data": {
      "text/plain": [
       "(143.19618618011435, 207.01580763106858)"
      ]
     },
     "execution_count": 111,
     "metadata": {},
     "output_type": "execute_result"
    }
   ],
   "source": [
    "import statsmodels.stats.api as sms\n",
    "\n",
    "cm = sms.CompareMeans(sms.DescrStatsW(control_attr[control_attr.variant_number==0].active_mins), \n",
    "                      sms.DescrStatsW(control_attr[control_attr.variant_number==1].active_mins))\n",
    "cm.tconfint_diff(alpha=0.05, alternative='two-sided',usevar='pooled')"
   ]
  },
  {
   "cell_type": "raw",
   "metadata": {},
   "source": [
    "stata output\n",
    "--\n",
    "Two-sample t test with equal variances\n",
    "------------------------------------------------------------------------------\n",
    "   Group |     Obs        Mean    Std. Err.   Std. Dev.   [95% Conf. Interval]\n",
    "---------+--------------------------------------------------------------------\n",
    "       0 |  39,757    410.5164    7.794218    1554.101    395.2395    425.7932\n",
    "       1 |   9,918    235.4104    9.289949    925.1782    217.2002    253.6206\n",
    "---------+--------------------------------------------------------------------\n",
    "combined |  49,675    375.5551    6.515493    1452.166    362.7846    388.3255\n",
    "---------+--------------------------------------------------------------------\n",
    "    diff |             175.106    16.28042                143.1962    207.0158\n",
    "------------------------------------------------------------------------------\n",
    "    diff = mean(0) - mean(1)                                      t =  10.7556\n",
    "Ho: diff = 0                                     degrees of freedom =    49673\n",
    "\n",
    "    Ha: diff < 0                 Ha: diff != 0                 Ha: diff > 0\n",
    " Pr(T < t) = 1.0000         Pr(|T| > |t|) = 0.0000          Pr(T > t) = 0.0000"
   ]
  },
  {
   "cell_type": "code",
   "execution_count": 112,
   "metadata": {},
   "outputs": [],
   "source": [
    "# There is a difference in the mean of two variants - users assigned variant 1 have lower avg active minutes before the experiment"
   ]
  },
  {
   "cell_type": "code",
   "execution_count": 113,
   "metadata": {},
   "outputs": [],
   "source": [
    "import statsmodels.api as  sm\n",
    "import statsmodels.formula.api as smf"
   ]
  },
  {
   "cell_type": "code",
   "execution_count": 114,
   "metadata": {},
   "outputs": [
    {
     "data": {
      "text/html": [
       "<div>\n",
       "<style scoped>\n",
       "    .dataframe tbody tr th:only-of-type {\n",
       "        vertical-align: middle;\n",
       "    }\n",
       "\n",
       "    .dataframe tbody tr th {\n",
       "        vertical-align: top;\n",
       "    }\n",
       "\n",
       "    .dataframe thead th {\n",
       "        text-align: right;\n",
       "    }\n",
       "</style>\n",
       "<table border=\"1\" class=\"dataframe\">\n",
       "  <thead>\n",
       "    <tr style=\"text-align: right;\">\n",
       "      <th></th>\n",
       "      <th>uid</th>\n",
       "      <th>active_mins</th>\n",
       "      <th>variant_number</th>\n",
       "      <th>signup_date</th>\n",
       "      <th>days_from_experiment</th>\n",
       "      <th>gender</th>\n",
       "      <th>user_type</th>\n",
       "    </tr>\n",
       "  </thead>\n",
       "  <tbody>\n",
       "    <tr>\n",
       "      <th>0</th>\n",
       "      <td>0</td>\n",
       "      <td>70.0</td>\n",
       "      <td>0</td>\n",
       "      <td>2018-09-24</td>\n",
       "      <td>135.0</td>\n",
       "      <td>male</td>\n",
       "      <td>non_reader</td>\n",
       "    </tr>\n",
       "    <tr>\n",
       "      <th>1</th>\n",
       "      <td>1</td>\n",
       "      <td>15618.0</td>\n",
       "      <td>0</td>\n",
       "      <td>2016-11-07</td>\n",
       "      <td>821.0</td>\n",
       "      <td>male</td>\n",
       "      <td>reader</td>\n",
       "    </tr>\n",
       "    <tr>\n",
       "      <th>2</th>\n",
       "      <td>2</td>\n",
       "      <td>37.0</td>\n",
       "      <td>0</td>\n",
       "      <td>2018-09-17</td>\n",
       "      <td>142.0</td>\n",
       "      <td>male</td>\n",
       "      <td>non_reader</td>\n",
       "    </tr>\n",
       "    <tr>\n",
       "      <th>3</th>\n",
       "      <td>3</td>\n",
       "      <td>29.0</td>\n",
       "      <td>0</td>\n",
       "      <td>2018-03-04</td>\n",
       "      <td>339.0</td>\n",
       "      <td>male</td>\n",
       "      <td>non_reader</td>\n",
       "    </tr>\n",
       "    <tr>\n",
       "      <th>4</th>\n",
       "      <td>4</td>\n",
       "      <td>57.0</td>\n",
       "      <td>0</td>\n",
       "      <td>2017-03-09</td>\n",
       "      <td>699.0</td>\n",
       "      <td>male</td>\n",
       "      <td>non_reader</td>\n",
       "    </tr>\n",
       "  </tbody>\n",
       "</table>\n",
       "</div>"
      ],
      "text/plain": [
       "   uid  active_mins  variant_number signup_date  days_from_experiment gender  \\\n",
       "0    0         70.0               0  2018-09-24                 135.0   male   \n",
       "1    1      15618.0               0  2016-11-07                 821.0   male   \n",
       "2    2         37.0               0  2018-09-17                 142.0   male   \n",
       "3    3         29.0               0  2018-03-04                 339.0   male   \n",
       "4    4         57.0               0  2017-03-09                 699.0   male   \n",
       "\n",
       "    user_type  \n",
       "0  non_reader  \n",
       "1      reader  \n",
       "2  non_reader  \n",
       "3  non_reader  \n",
       "4  non_reader  "
      ]
     },
     "execution_count": 114,
     "metadata": {},
     "output_type": "execute_result"
    }
   ],
   "source": [
    "control_attr.head()"
   ]
  },
  {
   "cell_type": "code",
   "execution_count": 115,
   "metadata": {},
   "outputs": [],
   "source": [
    "control_model = smf.glm(formula='active_mins ~ variant_number + days_from_experiment + C(gender) + C(user_type)',\n",
    "                        data=control_attr, family=sm.families.Poisson()).fit()"
   ]
  },
  {
   "cell_type": "code",
   "execution_count": 116,
   "metadata": {},
   "outputs": [
    {
     "data": {
      "text/html": [
       "<table class=\"simpletable\">\n",
       "<caption>Generalized Linear Model Regression Results</caption>\n",
       "<tr>\n",
       "  <th>Dep. Variable:</th>      <td>active_mins</td>   <th>  No. Observations:  </th>   <td> 49675</td>   \n",
       "</tr>\n",
       "<tr>\n",
       "  <th>Model:</th>                  <td>GLM</td>       <th>  Df Residuals:      </th>   <td> 49667</td>   \n",
       "</tr>\n",
       "<tr>\n",
       "  <th>Model Family:</th>         <td>Poisson</td>     <th>  Df Model:          </th>   <td>     7</td>   \n",
       "</tr>\n",
       "<tr>\n",
       "  <th>Link Function:</th>          <td>log</td>       <th>  Scale:             </th>  <td>  1.0000</td>  \n",
       "</tr>\n",
       "<tr>\n",
       "  <th>Method:</th>                <td>IRLS</td>       <th>  Log-Likelihood:    </th> <td>-1.3899e+07</td>\n",
       "</tr>\n",
       "<tr>\n",
       "  <th>Date:</th>            <td>Wed, 08 Apr 2020</td> <th>  Deviance:          </th> <td>2.7508e+07</td> \n",
       "</tr>\n",
       "<tr>\n",
       "  <th>Time:</th>                <td>05:32:33</td>     <th>  Pearson chi2:      </th>  <td>6.16e+07</td>  \n",
       "</tr>\n",
       "<tr>\n",
       "  <th>No. Iterations:</th>          <td>8</td>        <th>                     </th>      <td> </td>     \n",
       "</tr>\n",
       "<tr>\n",
       "  <th>Covariance Type:</th>     <td>nonrobust</td>    <th>                     </th>      <td> </td>     \n",
       "</tr>\n",
       "</table>\n",
       "<table class=\"simpletable\">\n",
       "<tr>\n",
       "               <td></td>                 <th>coef</th>     <th>std err</th>      <th>z</th>      <th>P>|z|</th>  <th>[0.025</th>    <th>0.975]</th>  \n",
       "</tr>\n",
       "<tr>\n",
       "  <th>Intercept</th>                  <td>    7.8778</td> <td>    0.001</td> <td>  1.1e+04</td> <td> 0.000</td> <td>    7.876</td> <td>    7.879</td>\n",
       "</tr>\n",
       "<tr>\n",
       "  <th>C(gender)[T.male]</th>          <td>    0.1900</td> <td>    0.001</td> <td>  329.310</td> <td> 0.000</td> <td>    0.189</td> <td>    0.191</td>\n",
       "</tr>\n",
       "<tr>\n",
       "  <th>C(gender)[T.unknown]</th>       <td>    0.1214</td> <td>    0.001</td> <td>  144.991</td> <td> 0.000</td> <td>    0.120</td> <td>    0.123</td>\n",
       "</tr>\n",
       "<tr>\n",
       "  <th>C(user_type)[T.new_user]</th>   <td>   -6.1656</td> <td>    0.006</td> <td>-1018.026</td> <td> 0.000</td> <td>   -6.177</td> <td>   -6.154</td>\n",
       "</tr>\n",
       "<tr>\n",
       "  <th>C(user_type)[T.non_reader]</th> <td>   -3.7337</td> <td>    0.001</td> <td>-4985.743</td> <td> 0.000</td> <td>   -3.735</td> <td>   -3.732</td>\n",
       "</tr>\n",
       "<tr>\n",
       "  <th>C(user_type)[T.reader]</th>     <td>   -1.0531</td> <td>    0.001</td> <td>-1849.630</td> <td> 0.000</td> <td>   -1.054</td> <td>   -1.052</td>\n",
       "</tr>\n",
       "<tr>\n",
       "  <th>variant_number</th>             <td>   -0.2739</td> <td>    0.001</td> <td> -390.549</td> <td> 0.000</td> <td>   -0.275</td> <td>   -0.273</td>\n",
       "</tr>\n",
       "<tr>\n",
       "  <th>days_from_experiment</th>       <td>    0.0004</td> <td>  3.3e-07</td> <td> 1068.348</td> <td> 0.000</td> <td>    0.000</td> <td>    0.000</td>\n",
       "</tr>\n",
       "</table>"
      ],
      "text/plain": [
       "<class 'statsmodels.iolib.summary.Summary'>\n",
       "\"\"\"\n",
       "                 Generalized Linear Model Regression Results                  \n",
       "==============================================================================\n",
       "Dep. Variable:            active_mins   No. Observations:                49675\n",
       "Model:                            GLM   Df Residuals:                    49667\n",
       "Model Family:                 Poisson   Df Model:                            7\n",
       "Link Function:                    log   Scale:                          1.0000\n",
       "Method:                          IRLS   Log-Likelihood:            -1.3899e+07\n",
       "Date:                Wed, 08 Apr 2020   Deviance:                   2.7508e+07\n",
       "Time:                        05:32:33   Pearson chi2:                 6.16e+07\n",
       "No. Iterations:                     8                                         \n",
       "Covariance Type:            nonrobust                                         \n",
       "==============================================================================================\n",
       "                                 coef    std err          z      P>|z|      [0.025      0.975]\n",
       "----------------------------------------------------------------------------------------------\n",
       "Intercept                      7.8778      0.001    1.1e+04      0.000       7.876       7.879\n",
       "C(gender)[T.male]              0.1900      0.001    329.310      0.000       0.189       0.191\n",
       "C(gender)[T.unknown]           0.1214      0.001    144.991      0.000       0.120       0.123\n",
       "C(user_type)[T.new_user]      -6.1656      0.006  -1018.026      0.000      -6.177      -6.154\n",
       "C(user_type)[T.non_reader]    -3.7337      0.001  -4985.743      0.000      -3.735      -3.732\n",
       "C(user_type)[T.reader]        -1.0531      0.001  -1849.630      0.000      -1.054      -1.052\n",
       "variant_number                -0.2739      0.001   -390.549      0.000      -0.275      -0.273\n",
       "days_from_experiment           0.0004    3.3e-07   1068.348      0.000       0.000       0.000\n",
       "==============================================================================================\n",
       "\"\"\""
      ]
     },
     "execution_count": 116,
     "metadata": {},
     "output_type": "execute_result"
    }
   ],
   "source": [
    "control_model.summary()"
   ]
  },
  {
   "cell_type": "code",
   "execution_count": 117,
   "metadata": {},
   "outputs": [],
   "source": [
    "# Experiment"
   ]
  },
  {
   "cell_type": "code",
   "execution_count": 118,
   "metadata": {},
   "outputs": [
    {
     "data": {
      "text/html": [
       "<div>\n",
       "<style scoped>\n",
       "    .dataframe tbody tr th:only-of-type {\n",
       "        vertical-align: middle;\n",
       "    }\n",
       "\n",
       "    .dataframe tbody tr th {\n",
       "        vertical-align: top;\n",
       "    }\n",
       "\n",
       "    .dataframe thead tr th {\n",
       "        text-align: left;\n",
       "    }\n",
       "\n",
       "    .dataframe thead tr:last-of-type th {\n",
       "        text-align: right;\n",
       "    }\n",
       "</style>\n",
       "<table border=\"1\" class=\"dataframe\">\n",
       "  <thead>\n",
       "    <tr>\n",
       "      <th></th>\n",
       "      <th colspan=\"8\" halign=\"left\">active_mins</th>\n",
       "    </tr>\n",
       "    <tr>\n",
       "      <th></th>\n",
       "      <th>count</th>\n",
       "      <th>mean</th>\n",
       "      <th>std</th>\n",
       "      <th>min</th>\n",
       "      <th>25%</th>\n",
       "      <th>50%</th>\n",
       "      <th>75%</th>\n",
       "      <th>max</th>\n",
       "    </tr>\n",
       "    <tr>\n",
       "      <th>variant_number</th>\n",
       "      <th></th>\n",
       "      <th></th>\n",
       "      <th></th>\n",
       "      <th></th>\n",
       "      <th></th>\n",
       "      <th></th>\n",
       "      <th></th>\n",
       "      <th></th>\n",
       "    </tr>\n",
       "  </thead>\n",
       "  <tbody>\n",
       "    <tr>\n",
       "      <th>0</th>\n",
       "      <td>37425.0</td>\n",
       "      <td>458.221162</td>\n",
       "      <td>1653.447132</td>\n",
       "      <td>1.0</td>\n",
       "      <td>16.0</td>\n",
       "      <td>52.0</td>\n",
       "      <td>191.0</td>\n",
       "      <td>37191.0</td>\n",
       "    </tr>\n",
       "    <tr>\n",
       "      <th>1</th>\n",
       "      <td>9208.0</td>\n",
       "      <td>458.402476</td>\n",
       "      <td>1680.571091</td>\n",
       "      <td>1.0</td>\n",
       "      <td>23.0</td>\n",
       "      <td>71.0</td>\n",
       "      <td>227.0</td>\n",
       "      <td>46742.0</td>\n",
       "    </tr>\n",
       "  </tbody>\n",
       "</table>\n",
       "</div>"
      ],
      "text/plain": [
       "               active_mins                                                   \\\n",
       "                     count        mean          std  min   25%   50%    75%   \n",
       "variant_number                                                                \n",
       "0                  37425.0  458.221162  1653.447132  1.0  16.0  52.0  191.0   \n",
       "1                   9208.0  458.402476  1680.571091  1.0  23.0  71.0  227.0   \n",
       "\n",
       "                         \n",
       "                    max  \n",
       "variant_number           \n",
       "0               37191.0  \n",
       "1               46742.0  "
      ]
     },
     "execution_count": 118,
     "metadata": {},
     "output_type": "execute_result"
    }
   ],
   "source": [
    "experiment_attr[['variant_number', 'active_mins']].groupby('variant_number').describe()"
   ]
  },
  {
   "cell_type": "code",
   "execution_count": 119,
   "metadata": {},
   "outputs": [
    {
     "data": {
      "text/plain": [
       "Ttest_indResult(statistic=-0.009396017075725334, pvalue=0.9925032135466763)"
      ]
     },
     "execution_count": 119,
     "metadata": {},
     "output_type": "execute_result"
    }
   ],
   "source": [
    "# This doesn't take effect of other factors into consideration\n",
    "stats.ttest_ind(experiment_attr[experiment_attr.variant_number==0].active_mins,\n",
    "                experiment_attr[experiment_attr.variant_number==1].active_mins)"
   ]
  },
  {
   "cell_type": "code",
   "execution_count": 120,
   "metadata": {},
   "outputs": [
    {
     "data": {
      "text/plain": [
       "(-38.00347887059214, 37.640851304425915)"
      ]
     },
     "execution_count": 120,
     "metadata": {},
     "output_type": "execute_result"
    }
   ],
   "source": [
    "cm = sms.CompareMeans(sms.DescrStatsW(experiment_attr[experiment_attr.variant_number==0].active_mins), \n",
    "                      sms.DescrStatsW(experiment_attr[experiment_attr.variant_number==1].active_mins))\n",
    "cm.tconfint_diff(alpha=0.05, alternative='two-sided',usevar='pooled')"
   ]
  },
  {
   "cell_type": "raw",
   "metadata": {},
   "source": [
    "results from stata\n",
    "--\n",
    ". ttest active_mins, by(variant_number)\n",
    "\n",
    "Two-sample t test with equal variances\n",
    "------------------------------------------------------------------------------\n",
    "   Group |     Obs        Mean    Std. Err.   Std. Dev.   [95% Conf. Interval]\n",
    "---------+--------------------------------------------------------------------\n",
    "       0 |  37,425    458.2212    8.546915    1653.447     441.469    474.9734\n",
    "       1 |   9,208    458.4025    17.51355    1680.571     424.072    492.7329\n",
    "---------+--------------------------------------------------------------------\n",
    "combined |  46,633     458.257    7.681616     1658.82    443.2009     473.313\n",
    "---------+--------------------------------------------------------------------\n",
    "    diff |           -.1813138    19.29688               -38.00348    37.64085\n",
    "------------------------------------------------------------------------------\n",
    "    diff = mean(0) - mean(1)                                      t =  -0.0094\n",
    "Ho: diff = 0                                     degrees of freedom =    46631\n",
    "\n",
    "    Ha: diff < 0                 Ha: diff != 0                 Ha: diff > 0\n",
    " Pr(T < t) = 0.4963         Pr(|T| > |t|) = 0.9925          Pr(T > t) = 0.5037"
   ]
  },
  {
   "cell_type": "code",
   "execution_count": 121,
   "metadata": {},
   "outputs": [],
   "source": [
    "experiment_model = smf.glm(formula='active_mins ~ variant_number + days_from_experiment + C(gender) + C(user_type)',\n",
    "                        data=experiment_attr, family=sm.families.Poisson()).fit()"
   ]
  },
  {
   "cell_type": "code",
   "execution_count": 122,
   "metadata": {},
   "outputs": [
    {
     "data": {
      "text/html": [
       "<table class=\"simpletable\">\n",
       "<caption>Generalized Linear Model Regression Results</caption>\n",
       "<tr>\n",
       "  <th>Dep. Variable:</th>      <td>active_mins</td>   <th>  No. Observations:  </th>   <td> 46633</td>   \n",
       "</tr>\n",
       "<tr>\n",
       "  <th>Model:</th>                  <td>GLM</td>       <th>  Df Residuals:      </th>   <td> 46625</td>   \n",
       "</tr>\n",
       "<tr>\n",
       "  <th>Model Family:</th>         <td>Poisson</td>     <th>  Df Model:          </th>   <td>     7</td>   \n",
       "</tr>\n",
       "<tr>\n",
       "  <th>Link Function:</th>          <td>log</td>       <th>  Scale:             </th>  <td>  1.0000</td>  \n",
       "</tr>\n",
       "<tr>\n",
       "  <th>Method:</th>                <td>IRLS</td>       <th>  Log-Likelihood:    </th> <td>-1.7600e+07</td>\n",
       "</tr>\n",
       "<tr>\n",
       "  <th>Date:</th>            <td>Wed, 08 Apr 2020</td> <th>  Deviance:          </th> <td>3.4920e+07</td> \n",
       "</tr>\n",
       "<tr>\n",
       "  <th>Time:</th>                <td>05:32:34</td>     <th>  Pearson chi2:      </th>  <td>8.28e+07</td>  \n",
       "</tr>\n",
       "<tr>\n",
       "  <th>No. Iterations:</th>          <td>7</td>        <th>                     </th>      <td> </td>     \n",
       "</tr>\n",
       "<tr>\n",
       "  <th>Covariance Type:</th>     <td>nonrobust</td>    <th>                     </th>      <td> </td>     \n",
       "</tr>\n",
       "</table>\n",
       "<table class=\"simpletable\">\n",
       "<tr>\n",
       "               <td></td>                 <th>coef</th>     <th>std err</th>      <th>z</th>      <th>P>|z|</th>  <th>[0.025</th>    <th>0.975]</th>  \n",
       "</tr>\n",
       "<tr>\n",
       "  <th>Intercept</th>                  <td>    7.9698</td> <td>    0.001</td> <td> 1.16e+04</td> <td> 0.000</td> <td>    7.968</td> <td>    7.971</td>\n",
       "</tr>\n",
       "<tr>\n",
       "  <th>C(gender)[T.male]</th>          <td>    0.2631</td> <td>    0.001</td> <td>  487.145</td> <td> 0.000</td> <td>    0.262</td> <td>    0.264</td>\n",
       "</tr>\n",
       "<tr>\n",
       "  <th>C(gender)[T.unknown]</th>       <td>    0.0599</td> <td>    0.001</td> <td>   74.842</td> <td> 0.000</td> <td>    0.058</td> <td>    0.062</td>\n",
       "</tr>\n",
       "<tr>\n",
       "  <th>C(user_type)[T.new_user]</th>   <td>   -4.6386</td> <td>    0.003</td> <td>-1517.962</td> <td> 0.000</td> <td>   -4.645</td> <td>   -4.633</td>\n",
       "</tr>\n",
       "<tr>\n",
       "  <th>C(user_type)[T.non_reader]</th> <td>   -3.5786</td> <td>    0.001</td> <td>-5180.863</td> <td> 0.000</td> <td>   -3.580</td> <td>   -3.577</td>\n",
       "</tr>\n",
       "<tr>\n",
       "  <th>C(user_type)[T.reader]</th>     <td>   -1.0029</td> <td>    0.001</td> <td>-1829.094</td> <td> 0.000</td> <td>   -1.004</td> <td>   -1.002</td>\n",
       "</tr>\n",
       "<tr>\n",
       "  <th>variant_number</th>             <td>    0.2610</td> <td>    0.001</td> <td>  478.686</td> <td> 0.000</td> <td>    0.260</td> <td>    0.262</td>\n",
       "</tr>\n",
       "<tr>\n",
       "  <th>days_from_experiment</th>       <td>    0.0002</td> <td>  3.2e-07</td> <td>  658.605</td> <td> 0.000</td> <td>    0.000</td> <td>    0.000</td>\n",
       "</tr>\n",
       "</table>"
      ],
      "text/plain": [
       "<class 'statsmodels.iolib.summary.Summary'>\n",
       "\"\"\"\n",
       "                 Generalized Linear Model Regression Results                  \n",
       "==============================================================================\n",
       "Dep. Variable:            active_mins   No. Observations:                46633\n",
       "Model:                            GLM   Df Residuals:                    46625\n",
       "Model Family:                 Poisson   Df Model:                            7\n",
       "Link Function:                    log   Scale:                          1.0000\n",
       "Method:                          IRLS   Log-Likelihood:            -1.7600e+07\n",
       "Date:                Wed, 08 Apr 2020   Deviance:                   3.4920e+07\n",
       "Time:                        05:32:34   Pearson chi2:                 8.28e+07\n",
       "No. Iterations:                     7                                         \n",
       "Covariance Type:            nonrobust                                         \n",
       "==============================================================================================\n",
       "                                 coef    std err          z      P>|z|      [0.025      0.975]\n",
       "----------------------------------------------------------------------------------------------\n",
       "Intercept                      7.9698      0.001   1.16e+04      0.000       7.968       7.971\n",
       "C(gender)[T.male]              0.2631      0.001    487.145      0.000       0.262       0.264\n",
       "C(gender)[T.unknown]           0.0599      0.001     74.842      0.000       0.058       0.062\n",
       "C(user_type)[T.new_user]      -4.6386      0.003  -1517.962      0.000      -4.645      -4.633\n",
       "C(user_type)[T.non_reader]    -3.5786      0.001  -5180.863      0.000      -3.580      -3.577\n",
       "C(user_type)[T.reader]        -1.0029      0.001  -1829.094      0.000      -1.004      -1.002\n",
       "variant_number                 0.2610      0.001    478.686      0.000       0.260       0.262\n",
       "days_from_experiment           0.0002    3.2e-07    658.605      0.000       0.000       0.000\n",
       "==============================================================================================\n",
       "\"\"\""
      ]
     },
     "execution_count": 122,
     "metadata": {},
     "output_type": "execute_result"
    }
   ],
   "source": [
    "experiment_model.summary()"
   ]
  },
  {
   "cell_type": "code",
   "execution_count": 123,
   "metadata": {},
   "outputs": [],
   "source": [
    "# Observation: There is an increase in the active time in variant 1 users"
   ]
  },
  {
   "cell_type": "code",
   "execution_count": 124,
   "metadata": {},
   "outputs": [
    {
     "name": "stdout",
     "output_type": "stream",
     "text": [
      "BB_LAMBDA    2.250979\n",
      "dtype: float64\n"
     ]
    }
   ],
   "source": [
    "# source: https://towardsdatascience.com/negative-binomial-regression-f99031bb25b4\n",
    "experiment_attr['BB_LAMBDA'] = experiment_model.mu\n",
    "experiment_attr['AUX_OLS_DEP'] = experiment_attr.apply(lambda x: ((x['active_mins'] - x['BB_LAMBDA'])**2 - x['active_mins']) / x['BB_LAMBDA'], axis=1)\n",
    "aux_olsr_results = smf.ols(\"AUX_OLS_DEP ~ BB_LAMBDA - 1\", experiment_attr).fit()\n",
    "print(aux_olsr_results.params)"
   ]
  },
  {
   "cell_type": "code",
   "execution_count": 125,
   "metadata": {},
   "outputs": [
    {
     "data": {
      "text/html": [
       "<table class=\"simpletable\">\n",
       "<caption>Generalized Linear Model Regression Results</caption>\n",
       "<tr>\n",
       "  <th>Dep. Variable:</th>      <td>active_mins</td>   <th>  No. Observations:  </th>   <td> 46633</td>   \n",
       "</tr>\n",
       "<tr>\n",
       "  <th>Model:</th>                  <td>GLM</td>       <th>  Df Residuals:      </th>   <td> 46625</td>   \n",
       "</tr>\n",
       "<tr>\n",
       "  <th>Model Family:</th>    <td>NegativeBinomial</td> <th>  Df Model:          </th>   <td>     7</td>   \n",
       "</tr>\n",
       "<tr>\n",
       "  <th>Link Function:</th>          <td>log</td>       <th>  Scale:             </th>  <td>  1.0000</td>  \n",
       "</tr>\n",
       "<tr>\n",
       "  <th>Method:</th>                <td>IRLS</td>       <th>  Log-Likelihood:    </th> <td>-2.8480e+05</td>\n",
       "</tr>\n",
       "<tr>\n",
       "  <th>Date:</th>            <td>Wed, 08 Apr 2020</td> <th>  Deviance:          </th>  <td>  41800.</td>  \n",
       "</tr>\n",
       "<tr>\n",
       "  <th>Time:</th>                <td>05:32:36</td>     <th>  Pearson chi2:      </th>  <td>2.05e+05</td>  \n",
       "</tr>\n",
       "<tr>\n",
       "  <th>No. Iterations:</th>          <td>9</td>        <th>                     </th>      <td> </td>     \n",
       "</tr>\n",
       "<tr>\n",
       "  <th>Covariance Type:</th>     <td>nonrobust</td>    <th>                     </th>      <td> </td>     \n",
       "</tr>\n",
       "</table>\n",
       "<table class=\"simpletable\">\n",
       "<tr>\n",
       "               <td></td>                 <th>coef</th>     <th>std err</th>      <th>z</th>      <th>P>|z|</th>  <th>[0.025</th>    <th>0.975]</th>  \n",
       "</tr>\n",
       "<tr>\n",
       "  <th>Intercept</th>                  <td>    7.9297</td> <td>    0.049</td> <td>  162.181</td> <td> 0.000</td> <td>    7.834</td> <td>    8.026</td>\n",
       "</tr>\n",
       "<tr>\n",
       "  <th>C(gender)[T.male]</th>          <td>    0.1977</td> <td>    0.016</td> <td>   12.248</td> <td> 0.000</td> <td>    0.166</td> <td>    0.229</td>\n",
       "</tr>\n",
       "<tr>\n",
       "  <th>C(gender)[T.unknown]</th>       <td>    0.0166</td> <td>    0.022</td> <td>    0.753</td> <td> 0.451</td> <td>   -0.027</td> <td>    0.060</td>\n",
       "</tr>\n",
       "<tr>\n",
       "  <th>C(user_type)[T.new_user]</th>   <td>   -4.6226</td> <td>    0.055</td> <td>  -84.510</td> <td> 0.000</td> <td>   -4.730</td> <td>   -4.515</td>\n",
       "</tr>\n",
       "<tr>\n",
       "  <th>C(user_type)[T.non_reader]</th> <td>   -3.5897</td> <td>    0.047</td> <td>  -75.800</td> <td> 0.000</td> <td>   -3.682</td> <td>   -3.497</td>\n",
       "</tr>\n",
       "<tr>\n",
       "  <th>C(user_type)[T.reader]</th>     <td>   -0.9939</td> <td>    0.050</td> <td>  -20.067</td> <td> 0.000</td> <td>   -1.091</td> <td>   -0.897</td>\n",
       "</tr>\n",
       "<tr>\n",
       "  <th>variant_number</th>             <td>    0.4261</td> <td>    0.018</td> <td>   24.324</td> <td> 0.000</td> <td>    0.392</td> <td>    0.460</td>\n",
       "</tr>\n",
       "<tr>\n",
       "  <th>days_from_experiment</th>       <td>    0.0003</td> <td> 1.21e-05</td> <td>   23.197</td> <td> 0.000</td> <td>    0.000</td> <td>    0.000</td>\n",
       "</tr>\n",
       "</table>"
      ],
      "text/plain": [
       "<class 'statsmodels.iolib.summary.Summary'>\n",
       "\"\"\"\n",
       "                 Generalized Linear Model Regression Results                  \n",
       "==============================================================================\n",
       "Dep. Variable:            active_mins   No. Observations:                46633\n",
       "Model:                            GLM   Df Residuals:                    46625\n",
       "Model Family:        NegativeBinomial   Df Model:                            7\n",
       "Link Function:                    log   Scale:                          1.0000\n",
       "Method:                          IRLS   Log-Likelihood:            -2.8480e+05\n",
       "Date:                Wed, 08 Apr 2020   Deviance:                       41800.\n",
       "Time:                        05:32:36   Pearson chi2:                 2.05e+05\n",
       "No. Iterations:                     9                                         \n",
       "Covariance Type:            nonrobust                                         \n",
       "==============================================================================================\n",
       "                                 coef    std err          z      P>|z|      [0.025      0.975]\n",
       "----------------------------------------------------------------------------------------------\n",
       "Intercept                      7.9297      0.049    162.181      0.000       7.834       8.026\n",
       "C(gender)[T.male]              0.1977      0.016     12.248      0.000       0.166       0.229\n",
       "C(gender)[T.unknown]           0.0166      0.022      0.753      0.451      -0.027       0.060\n",
       "C(user_type)[T.new_user]      -4.6226      0.055    -84.510      0.000      -4.730      -4.515\n",
       "C(user_type)[T.non_reader]    -3.5897      0.047    -75.800      0.000      -3.682      -3.497\n",
       "C(user_type)[T.reader]        -0.9939      0.050    -20.067      0.000      -1.091      -0.897\n",
       "variant_number                 0.4261      0.018     24.324      0.000       0.392       0.460\n",
       "days_from_experiment           0.0003   1.21e-05     23.197      0.000       0.000       0.000\n",
       "==============================================================================================\n",
       "\"\"\""
      ]
     },
     "execution_count": 125,
     "metadata": {},
     "output_type": "execute_result"
    }
   ],
   "source": [
    "# improved log-likelihood, deviance, and pearson chi2 \n",
    "experiment_model_nb = smf.glm(formula='active_mins ~ variant_number + days_from_experiment + C(gender) + C(user_type)',\n",
    "                        data=experiment_attr, family=sm.families.NegativeBinomial(alpha=aux_olsr_results.params[0])).fit()\n",
    "experiment_model_nb.summary()"
   ]
  },
  {
   "cell_type": "code",
   "execution_count": 126,
   "metadata": {},
   "outputs": [],
   "source": [
    "# Variant 1 has approximately 1.5x active_mins after launching the experiment. \n",
    "# This indicates positive impact of the experiment on the test group \n",
    "# (coef of variant_number changed was -ve before the experiment and is +ve after launching the experiment)"
   ]
  },
  {
   "cell_type": "markdown",
   "metadata": {},
   "source": [
    "## 4. Analyzing the lift"
   ]
  },
  {
   "cell_type": "code",
   "execution_count": 127,
   "metadata": {},
   "outputs": [
    {
     "data": {
      "text/plain": [
       "46467"
      ]
     },
     "execution_count": 127,
     "metadata": {},
     "output_type": "execute_result"
    }
   ],
   "source": [
    "len(set(list(control_attr.uid)).intersection(set(list(experiment_attr.uid))))"
   ]
  },
  {
   "cell_type": "code",
   "execution_count": 128,
   "metadata": {},
   "outputs": [
    {
     "data": {
      "text/plain": [
       "46633"
      ]
     },
     "execution_count": 128,
     "metadata": {},
     "output_type": "execute_result"
    }
   ],
   "source": [
    "len(set(list(experiment_attr.uid)))"
   ]
  },
  {
   "cell_type": "code",
   "execution_count": 129,
   "metadata": {},
   "outputs": [],
   "source": [
    "lift = experiment_attr.merge(control_attr[[\"uid\",\"active_mins\"]], on='uid', how='inner')"
   ]
  },
  {
   "cell_type": "code",
   "execution_count": 130,
   "metadata": {},
   "outputs": [
    {
     "data": {
      "text/plain": [
       "46467"
      ]
     },
     "execution_count": 130,
     "metadata": {},
     "output_type": "execute_result"
    }
   ],
   "source": [
    "len(set(list(lift.uid)))"
   ]
  },
  {
   "cell_type": "code",
   "execution_count": 131,
   "metadata": {},
   "outputs": [],
   "source": [
    "lift['lift_active_mins'] = lift.active_mins_x - lift.active_mins_y"
   ]
  },
  {
   "cell_type": "code",
   "execution_count": 132,
   "metadata": {},
   "outputs": [
    {
     "data": {
      "text/html": [
       "<div>\n",
       "<style scoped>\n",
       "    .dataframe tbody tr th:only-of-type {\n",
       "        vertical-align: middle;\n",
       "    }\n",
       "\n",
       "    .dataframe tbody tr th {\n",
       "        vertical-align: top;\n",
       "    }\n",
       "\n",
       "    .dataframe thead th {\n",
       "        text-align: right;\n",
       "    }\n",
       "</style>\n",
       "<table border=\"1\" class=\"dataframe\">\n",
       "  <thead>\n",
       "    <tr style=\"text-align: right;\">\n",
       "      <th></th>\n",
       "      <th>uid</th>\n",
       "      <th>active_mins_x</th>\n",
       "      <th>variant_number</th>\n",
       "      <th>signup_date</th>\n",
       "      <th>days_from_experiment</th>\n",
       "      <th>gender</th>\n",
       "      <th>user_type</th>\n",
       "      <th>BB_LAMBDA</th>\n",
       "      <th>AUX_OLS_DEP</th>\n",
       "      <th>active_mins_y</th>\n",
       "      <th>lift_active_mins</th>\n",
       "    </tr>\n",
       "  </thead>\n",
       "  <tbody>\n",
       "    <tr>\n",
       "      <th>0</th>\n",
       "      <td>0</td>\n",
       "      <td>43.0</td>\n",
       "      <td>0</td>\n",
       "      <td>2018-09-24</td>\n",
       "      <td>135.0</td>\n",
       "      <td>male</td>\n",
       "      <td>non_reader</td>\n",
       "      <td>108.072368</td>\n",
       "      <td>38.783392</td>\n",
       "      <td>70.0</td>\n",
       "      <td>-27.0</td>\n",
       "    </tr>\n",
       "    <tr>\n",
       "      <th>1</th>\n",
       "      <td>1</td>\n",
       "      <td>15205.0</td>\n",
       "      <td>0</td>\n",
       "      <td>2016-11-07</td>\n",
       "      <td>821.0</td>\n",
       "      <td>male</td>\n",
       "      <td>reader</td>\n",
       "      <td>1641.328530</td>\n",
       "      <td>112078.706560</td>\n",
       "      <td>15618.0</td>\n",
       "      <td>-413.0</td>\n",
       "    </tr>\n",
       "    <tr>\n",
       "      <th>2</th>\n",
       "      <td>2</td>\n",
       "      <td>17.0</td>\n",
       "      <td>0</td>\n",
       "      <td>2018-09-17</td>\n",
       "      <td>142.0</td>\n",
       "      <td>male</td>\n",
       "      <td>non_reader</td>\n",
       "      <td>108.232110</td>\n",
       "      <td>76.745227</td>\n",
       "      <td>37.0</td>\n",
       "      <td>-20.0</td>\n",
       "    </tr>\n",
       "    <tr>\n",
       "      <th>3</th>\n",
       "      <td>3</td>\n",
       "      <td>77.0</td>\n",
       "      <td>0</td>\n",
       "      <td>2018-03-04</td>\n",
       "      <td>339.0</td>\n",
       "      <td>male</td>\n",
       "      <td>non_reader</td>\n",
       "      <td>112.825837</td>\n",
       "      <td>10.693389</td>\n",
       "      <td>29.0</td>\n",
       "      <td>48.0</td>\n",
       "    </tr>\n",
       "    <tr>\n",
       "      <th>4</th>\n",
       "      <td>4</td>\n",
       "      <td>39.0</td>\n",
       "      <td>0</td>\n",
       "      <td>2017-03-09</td>\n",
       "      <td>699.0</td>\n",
       "      <td>male</td>\n",
       "      <td>non_reader</td>\n",
       "      <td>121.730048</td>\n",
       "      <td>55.904528</td>\n",
       "      <td>57.0</td>\n",
       "      <td>-18.0</td>\n",
       "    </tr>\n",
       "  </tbody>\n",
       "</table>\n",
       "</div>"
      ],
      "text/plain": [
       "   uid  active_mins_x  variant_number signup_date  days_from_experiment  \\\n",
       "0    0           43.0               0  2018-09-24                 135.0   \n",
       "1    1        15205.0               0  2016-11-07                 821.0   \n",
       "2    2           17.0               0  2018-09-17                 142.0   \n",
       "3    3           77.0               0  2018-03-04                 339.0   \n",
       "4    4           39.0               0  2017-03-09                 699.0   \n",
       "\n",
       "  gender   user_type    BB_LAMBDA    AUX_OLS_DEP  active_mins_y  \\\n",
       "0   male  non_reader   108.072368      38.783392           70.0   \n",
       "1   male      reader  1641.328530  112078.706560        15618.0   \n",
       "2   male  non_reader   108.232110      76.745227           37.0   \n",
       "3   male  non_reader   112.825837      10.693389           29.0   \n",
       "4   male  non_reader   121.730048      55.904528           57.0   \n",
       "\n",
       "   lift_active_mins  \n",
       "0             -27.0  \n",
       "1            -413.0  \n",
       "2             -20.0  \n",
       "3              48.0  \n",
       "4             -18.0  "
      ]
     },
     "execution_count": 132,
     "metadata": {},
     "output_type": "execute_result"
    }
   ],
   "source": [
    "lift.head()"
   ]
  },
  {
   "cell_type": "code",
   "execution_count": 133,
   "metadata": {},
   "outputs": [
    {
     "data": {
      "text/html": [
       "<div>\n",
       "<style scoped>\n",
       "    .dataframe tbody tr th:only-of-type {\n",
       "        vertical-align: middle;\n",
       "    }\n",
       "\n",
       "    .dataframe tbody tr th {\n",
       "        vertical-align: top;\n",
       "    }\n",
       "\n",
       "    .dataframe thead tr th {\n",
       "        text-align: left;\n",
       "    }\n",
       "\n",
       "    .dataframe thead tr:last-of-type th {\n",
       "        text-align: right;\n",
       "    }\n",
       "</style>\n",
       "<table border=\"1\" class=\"dataframe\">\n",
       "  <thead>\n",
       "    <tr>\n",
       "      <th></th>\n",
       "      <th colspan=\"8\" halign=\"left\">lift_active_mins</th>\n",
       "    </tr>\n",
       "    <tr>\n",
       "      <th></th>\n",
       "      <th>count</th>\n",
       "      <th>mean</th>\n",
       "      <th>std</th>\n",
       "      <th>min</th>\n",
       "      <th>25%</th>\n",
       "      <th>50%</th>\n",
       "      <th>75%</th>\n",
       "      <th>max</th>\n",
       "    </tr>\n",
       "    <tr>\n",
       "      <th>variant_number</th>\n",
       "      <th></th>\n",
       "      <th></th>\n",
       "      <th></th>\n",
       "      <th></th>\n",
       "      <th></th>\n",
       "      <th></th>\n",
       "      <th></th>\n",
       "      <th></th>\n",
       "    </tr>\n",
       "  </thead>\n",
       "  <tbody>\n",
       "    <tr>\n",
       "      <th>0</th>\n",
       "      <td>37303.0</td>\n",
       "      <td>24.230705</td>\n",
       "      <td>850.482313</td>\n",
       "      <td>-19995.0</td>\n",
       "      <td>-30.0</td>\n",
       "      <td>-1.0</td>\n",
       "      <td>32.0</td>\n",
       "      <td>20971.0</td>\n",
       "    </tr>\n",
       "    <tr>\n",
       "      <th>1</th>\n",
       "      <td>9164.0</td>\n",
       "      <td>207.142296</td>\n",
       "      <td>1061.228821</td>\n",
       "      <td>-19292.0</td>\n",
       "      <td>-7.0</td>\n",
       "      <td>18.0</td>\n",
       "      <td>99.0</td>\n",
       "      <td>27792.0</td>\n",
       "    </tr>\n",
       "  </tbody>\n",
       "</table>\n",
       "</div>"
      ],
      "text/plain": [
       "               lift_active_mins                                                \\\n",
       "                          count        mean          std      min   25%   50%   \n",
       "variant_number                                                                  \n",
       "0                       37303.0   24.230705   850.482313 -19995.0 -30.0  -1.0   \n",
       "1                        9164.0  207.142296  1061.228821 -19292.0  -7.0  18.0   \n",
       "\n",
       "                               \n",
       "                 75%      max  \n",
       "variant_number                 \n",
       "0               32.0  20971.0  \n",
       "1               99.0  27792.0  "
      ]
     },
     "execution_count": 133,
     "metadata": {},
     "output_type": "execute_result"
    }
   ],
   "source": [
    "lift[['variant_number', 'lift_active_mins']].groupby('variant_number').describe()"
   ]
  },
  {
   "cell_type": "code",
   "execution_count": 134,
   "metadata": {},
   "outputs": [
    {
     "data": {
      "text/plain": [
       "Ttest_1sampResult(statistic=5.502659622238858, pvalue=3.765595756168524e-08)"
      ]
     },
     "execution_count": 134,
     "metadata": {},
     "output_type": "execute_result"
    }
   ],
   "source": [
    "stats.ttest_1samp(lift[lift.variant_number==0].lift_active_mins,0.0)"
   ]
  },
  {
   "cell_type": "code",
   "execution_count": 135,
   "metadata": {},
   "outputs": [
    {
     "data": {
      "text/plain": [
       "Ttest_1sampResult(statistic=18.68539529576689, pvalue=1.6998436261449193e-76)"
      ]
     },
     "execution_count": 135,
     "metadata": {},
     "output_type": "execute_result"
    }
   ],
   "source": [
    "stats.ttest_1samp(lift[lift.variant_number==1].lift_active_mins,0.0)"
   ]
  },
  {
   "cell_type": "markdown",
   "metadata": {},
   "source": [
    "### Difference of differences"
   ]
  },
  {
   "cell_type": "code",
   "execution_count": 136,
   "metadata": {},
   "outputs": [
    {
     "data": {
      "text/plain": [
       "Ttest_indResult(statistic=-17.51006237505111, pvalue=1.9931067407515464e-68)"
      ]
     },
     "execution_count": 136,
     "metadata": {},
     "output_type": "execute_result"
    }
   ],
   "source": [
    "stats.ttest_ind(lift[lift.variant_number==0].lift_active_mins,\n",
    "                lift[lift.variant_number==1].lift_active_mins)"
   ]
  },
  {
   "cell_type": "code",
   "execution_count": 137,
   "metadata": {},
   "outputs": [
    {
     "data": {
      "text/plain": [
       "(-203.38607331370056, -162.43710795716729)"
      ]
     },
     "execution_count": 137,
     "metadata": {},
     "output_type": "execute_result"
    }
   ],
   "source": [
    "cm = sms.CompareMeans(sms.DescrStatsW(lift[lift.variant_number==0].lift_active_mins), \n",
    "                      sms.DescrStatsW(lift[lift.variant_number==1].lift_active_mins))\n",
    "cm.tconfint_diff(alpha=0.05, alternative='two-sided',usevar='pooled')"
   ]
  },
  {
   "cell_type": "raw",
   "metadata": {},
   "source": [
    "results from stata\n",
    "--\n",
    "Two-sample t test with equal variances\n",
    "------------------------------------------------------------------------------\n",
    "   Group |     Obs        Mean    Std. Err.   Std. Dev.   [95% Conf. Interval]\n",
    "---------+--------------------------------------------------------------------\n",
    "       0 |  37,303    24.23071    4.403453    850.4823    15.59982     32.8616\n",
    "       1 |   9,164    207.1423    11.08579    1061.229    185.4117    228.8729\n",
    "---------+--------------------------------------------------------------------\n",
    "combined |  46,467    60.30366    4.170103     898.916    52.13019    68.47712\n",
    "---------+--------------------------------------------------------------------\n",
    "    diff |           -182.9116    10.44608               -203.3861   -162.4371\n",
    "------------------------------------------------------------------------------\n",
    "    diff = mean(0) - mean(1)                                      t = -17.5101\n",
    "Ho: diff = 0                                     degrees of freedom =    46465\n",
    "\n",
    "    Ha: diff < 0                 Ha: diff != 0                 Ha: diff > 0\n",
    " Pr(T < t) = 0.0000         Pr(|T| > |t|) = 0.0000          Pr(T > t) = 1.0000\n"
   ]
  },
  {
   "cell_type": "code",
   "execution_count": 138,
   "metadata": {},
   "outputs": [
    {
     "data": {
      "text/plain": [
       "<matplotlib.axes._subplots.AxesSubplot at 0x1a326e5630>"
      ]
     },
     "execution_count": 138,
     "metadata": {},
     "output_type": "execute_result"
    },
    {
     "data": {
      "image/png": "[encoded data removed]",
      "text/plain": [
       "<Figure size 432x288 with 1 Axes>"
      ]
     },
     "metadata": {
      "needs_background": "light"
     },
     "output_type": "display_data"
    }
   ],
   "source": [
    "sns.boxplot(x=lift.variant_number, y=lift.lift_active_mins, showfliers=False)"
   ]
  },
  {
   "cell_type": "code",
   "execution_count": 139,
   "metadata": {},
   "outputs": [],
   "source": [
    "# Observation: Average increase in lift_active_mins is higher for variant_number 1"
   ]
  },
  {
   "cell_type": "markdown",
   "metadata": {},
   "source": [
    "## 5. Revisiting A/B testing - DID regression & MCMC simulation"
   ]
  },
  {
   "cell_type": "markdown",
   "metadata": {},
   "source": [
    "NOTE: This section is just for fun to run 'Difference of Differences' as a 'Monte-Carlo Poisson GLM'.\n",
    "Ideally we would want to have a balance in both control and treatment groups for these result to be valid. Also, Negative Binomial would be a better distrubtion compared to Poisson while modeling active minutes due to overdispersion."
   ]
  },
  {
   "cell_type": "code",
   "execution_count": 140,
   "metadata": {},
   "outputs": [
    {
     "data": {
      "text/html": [
       "<div>\n",
       "<style scoped>\n",
       "    .dataframe tbody tr th:only-of-type {\n",
       "        vertical-align: middle;\n",
       "    }\n",
       "\n",
       "    .dataframe tbody tr th {\n",
       "        vertical-align: top;\n",
       "    }\n",
       "\n",
       "    .dataframe thead th {\n",
       "        text-align: right;\n",
       "    }\n",
       "</style>\n",
       "<table border=\"1\" class=\"dataframe\">\n",
       "  <thead>\n",
       "    <tr style=\"text-align: right;\">\n",
       "      <th></th>\n",
       "      <th>uid</th>\n",
       "      <th>active_mins_x</th>\n",
       "      <th>variant_number</th>\n",
       "      <th>signup_date</th>\n",
       "      <th>days_from_experiment</th>\n",
       "      <th>gender</th>\n",
       "      <th>user_type</th>\n",
       "      <th>BB_LAMBDA</th>\n",
       "      <th>AUX_OLS_DEP</th>\n",
       "      <th>active_mins_y</th>\n",
       "      <th>lift_active_mins</th>\n",
       "    </tr>\n",
       "  </thead>\n",
       "  <tbody>\n",
       "    <tr>\n",
       "      <th>0</th>\n",
       "      <td>0</td>\n",
       "      <td>43.0</td>\n",
       "      <td>0</td>\n",
       "      <td>2018-09-24</td>\n",
       "      <td>135.0</td>\n",
       "      <td>male</td>\n",
       "      <td>non_reader</td>\n",
       "      <td>108.072368</td>\n",
       "      <td>38.783392</td>\n",
       "      <td>70.0</td>\n",
       "      <td>-27.0</td>\n",
       "    </tr>\n",
       "    <tr>\n",
       "      <th>1</th>\n",
       "      <td>1</td>\n",
       "      <td>15205.0</td>\n",
       "      <td>0</td>\n",
       "      <td>2016-11-07</td>\n",
       "      <td>821.0</td>\n",
       "      <td>male</td>\n",
       "      <td>reader</td>\n",
       "      <td>1641.328530</td>\n",
       "      <td>112078.706560</td>\n",
       "      <td>15618.0</td>\n",
       "      <td>-413.0</td>\n",
       "    </tr>\n",
       "    <tr>\n",
       "      <th>2</th>\n",
       "      <td>2</td>\n",
       "      <td>17.0</td>\n",
       "      <td>0</td>\n",
       "      <td>2018-09-17</td>\n",
       "      <td>142.0</td>\n",
       "      <td>male</td>\n",
       "      <td>non_reader</td>\n",
       "      <td>108.232110</td>\n",
       "      <td>76.745227</td>\n",
       "      <td>37.0</td>\n",
       "      <td>-20.0</td>\n",
       "    </tr>\n",
       "    <tr>\n",
       "      <th>3</th>\n",
       "      <td>3</td>\n",
       "      <td>77.0</td>\n",
       "      <td>0</td>\n",
       "      <td>2018-03-04</td>\n",
       "      <td>339.0</td>\n",
       "      <td>male</td>\n",
       "      <td>non_reader</td>\n",
       "      <td>112.825837</td>\n",
       "      <td>10.693389</td>\n",
       "      <td>29.0</td>\n",
       "      <td>48.0</td>\n",
       "    </tr>\n",
       "    <tr>\n",
       "      <th>4</th>\n",
       "      <td>4</td>\n",
       "      <td>39.0</td>\n",
       "      <td>0</td>\n",
       "      <td>2017-03-09</td>\n",
       "      <td>699.0</td>\n",
       "      <td>male</td>\n",
       "      <td>non_reader</td>\n",
       "      <td>121.730048</td>\n",
       "      <td>55.904528</td>\n",
       "      <td>57.0</td>\n",
       "      <td>-18.0</td>\n",
       "    </tr>\n",
       "  </tbody>\n",
       "</table>\n",
       "</div>"
      ],
      "text/plain": [
       "   uid  active_mins_x  variant_number signup_date  days_from_experiment  \\\n",
       "0    0           43.0               0  2018-09-24                 135.0   \n",
       "1    1        15205.0               0  2016-11-07                 821.0   \n",
       "2    2           17.0               0  2018-09-17                 142.0   \n",
       "3    3           77.0               0  2018-03-04                 339.0   \n",
       "4    4           39.0               0  2017-03-09                 699.0   \n",
       "\n",
       "  gender   user_type    BB_LAMBDA    AUX_OLS_DEP  active_mins_y  \\\n",
       "0   male  non_reader   108.072368      38.783392           70.0   \n",
       "1   male      reader  1641.328530  112078.706560        15618.0   \n",
       "2   male  non_reader   108.232110      76.745227           37.0   \n",
       "3   male  non_reader   112.825837      10.693389           29.0   \n",
       "4   male  non_reader   121.730048      55.904528           57.0   \n",
       "\n",
       "   lift_active_mins  \n",
       "0             -27.0  \n",
       "1            -413.0  \n",
       "2             -20.0  \n",
       "3              48.0  \n",
       "4             -18.0  "
      ]
     },
     "execution_count": 140,
     "metadata": {},
     "output_type": "execute_result"
    }
   ],
   "source": [
    "lift.head()"
   ]
  },
  {
   "cell_type": "raw",
   "metadata": {},
   "source": [
    "active_mins_x: active minutes during the experiment\n",
    "active_mins_y: active minuts before the experiment\n",
    "variant_number = 0: control\n",
    "variant_number = 1: treatment"
   ]
  },
  {
   "cell_type": "code",
   "execution_count": 141,
   "metadata": {},
   "outputs": [
    {
     "name": "stderr",
     "output_type": "stream",
     "text": [
      "/Users/sanjayrenduchintala/Documents/Anaconda/anaconda3/lib/python3.7/site-packages/ipykernel_launcher.py:3: SettingWithCopyWarning: \n",
      "A value is trying to be set on a copy of a slice from a DataFrame.\n",
      "Try using .loc[row_indexer,col_indexer] = value instead\n",
      "\n",
      "See the caveats in the documentation: https://pandas.pydata.org/pandas-docs/stable/user_guide/indexing.html#returning-a-view-versus-a-copy\n",
      "  This is separate from the ipykernel package so we can avoid doing imports until\n",
      "/Users/sanjayrenduchintala/Documents/Anaconda/anaconda3/lib/python3.7/site-packages/ipykernel_launcher.py:6: SettingWithCopyWarning: \n",
      "A value is trying to be set on a copy of a slice from a DataFrame.\n",
      "Try using .loc[row_indexer,col_indexer] = value instead\n",
      "\n",
      "See the caveats in the documentation: https://pandas.pydata.org/pandas-docs/stable/user_guide/indexing.html#returning-a-view-versus-a-copy\n",
      "  \n"
     ]
    }
   ],
   "source": [
    "df1 = lift[['uid', 'variant_number', 'active_mins_x']]\n",
    "df1.columns = ['uid', 'variant_number', 'active_mins']\n",
    "df1['experiment'] = 1\n",
    "df2 = lift[['uid', 'variant_number', 'active_mins_y']]\n",
    "df2.columns = ['uid', 'variant_number', 'active_mins']\n",
    "df2['experiment'] = 0\n",
    "\n",
    "df = pd.concat([df1,df2], axis=0)"
   ]
  },
  {
   "cell_type": "code",
   "execution_count": 142,
   "metadata": {},
   "outputs": [
    {
     "data": {
      "text/plain": [
       "0.000        1.00\n",
       "0.100        7.00\n",
       "0.250       18.00\n",
       "0.500       53.00\n",
       "0.750      184.00\n",
       "0.900      772.00\n",
       "0.950     2007.00\n",
       "0.975     3945.00\n",
       "0.990     7453.34\n",
       "1.000    46742.00\n",
       "Name: active_mins, dtype: float64"
      ]
     },
     "execution_count": 142,
     "metadata": {},
     "output_type": "execute_result"
    }
   ],
   "source": [
    "df.active_mins.quantile([0,.1,.25,.5,.75,.9,.95,.975,.99,1])"
   ]
  },
  {
   "cell_type": "markdown",
   "metadata": {},
   "source": [
    "### Regular regression method"
   ]
  },
  {
   "cell_type": "code",
   "execution_count": 143,
   "metadata": {},
   "outputs": [],
   "source": [
    "import statsmodels.api as  sm\n",
    "import statsmodels.formula.api as smf\n",
    "\n",
    "## TODO: Add control variables like gender...\n",
    "## TODO: Data is overdispersed use Negative Binomial instead of Poisson\n",
    "\n",
    "# GLM\n",
    "formula = 'active_mins ~ variant_number + experiment + variant_number:experiment'\n",
    "glm_model = smf.glm(formula=formula, data=df, family=sm.families.Poisson()).fit()"
   ]
  },
  {
   "cell_type": "code",
   "execution_count": 144,
   "metadata": {},
   "outputs": [
    {
     "data": {
      "text/html": [
       "<table class=\"simpletable\">\n",
       "<caption>Generalized Linear Model Regression Results</caption>\n",
       "<tr>\n",
       "  <th>Dep. Variable:</th>      <td>active_mins</td>   <th>  No. Observations:  </th>   <td> 92934</td>   \n",
       "</tr>\n",
       "<tr>\n",
       "  <th>Model:</th>                  <td>GLM</td>       <th>  Df Residuals:      </th>   <td> 92930</td>   \n",
       "</tr>\n",
       "<tr>\n",
       "  <th>Model Family:</th>         <td>Poisson</td>     <th>  Df Model:          </th>   <td>     3</td>   \n",
       "</tr>\n",
       "<tr>\n",
       "  <th>Link Function:</th>          <td>log</td>       <th>  Scale:             </th>  <td>  1.0000</td>  \n",
       "</tr>\n",
       "<tr>\n",
       "  <th>Method:</th>                <td>IRLS</td>       <th>  Log-Likelihood:    </th> <td>-7.1764e+07</td>\n",
       "</tr>\n",
       "<tr>\n",
       "  <th>Date:</th>            <td>Wed, 08 Apr 2020</td> <th>  Deviance:          </th> <td>1.4297e+08</td> \n",
       "</tr>\n",
       "<tr>\n",
       "  <th>Time:</th>                <td>05:32:36</td>     <th>  Pearson chi2:      </th>  <td>5.32e+08</td>  \n",
       "</tr>\n",
       "<tr>\n",
       "  <th>No. Iterations:</th>          <td>6</td>        <th>                     </th>      <td> </td>     \n",
       "</tr>\n",
       "<tr>\n",
       "  <th>Covariance Type:</th>     <td>nonrobust</td>    <th>                     </th>      <td> </td>     \n",
       "</tr>\n",
       "</table>\n",
       "<table class=\"simpletable\">\n",
       "<tr>\n",
       "              <td></td>                 <th>coef</th>     <th>std err</th>      <th>z</th>      <th>P>|z|</th>  <th>[0.025</th>    <th>0.975]</th>  \n",
       "</tr>\n",
       "<tr>\n",
       "  <th>Intercept</th>                 <td>    6.0763</td> <td>    0.000</td> <td> 2.45e+04</td> <td> 0.000</td> <td>    6.076</td> <td>    6.077</td>\n",
       "</tr>\n",
       "<tr>\n",
       "  <th>variant_number</th>            <td>   -0.5415</td> <td>    0.001</td> <td> -771.780</td> <td> 0.000</td> <td>   -0.543</td> <td>   -0.540</td>\n",
       "</tr>\n",
       "<tr>\n",
       "  <th>experiment</th>                <td>    0.0542</td> <td>    0.000</td> <td>  156.404</td> <td> 0.000</td> <td>    0.053</td> <td>    0.055</td>\n",
       "</tr>\n",
       "<tr>\n",
       "  <th>variant_number:experiment</th> <td>    0.5433</td> <td>    0.001</td> <td>  612.254</td> <td> 0.000</td> <td>    0.542</td> <td>    0.545</td>\n",
       "</tr>\n",
       "</table>"
      ],
      "text/plain": [
       "<class 'statsmodels.iolib.summary.Summary'>\n",
       "\"\"\"\n",
       "                 Generalized Linear Model Regression Results                  \n",
       "==============================================================================\n",
       "Dep. Variable:            active_mins   No. Observations:                92934\n",
       "Model:                            GLM   Df Residuals:                    92930\n",
       "Model Family:                 Poisson   Df Model:                            3\n",
       "Link Function:                    log   Scale:                          1.0000\n",
       "Method:                          IRLS   Log-Likelihood:            -7.1764e+07\n",
       "Date:                Wed, 08 Apr 2020   Deviance:                   1.4297e+08\n",
       "Time:                        05:32:36   Pearson chi2:                 5.32e+08\n",
       "No. Iterations:                     6                                         \n",
       "Covariance Type:            nonrobust                                         \n",
       "=============================================================================================\n",
       "                                coef    std err          z      P>|z|      [0.025      0.975]\n",
       "---------------------------------------------------------------------------------------------\n",
       "Intercept                     6.0763      0.000   2.45e+04      0.000       6.076       6.077\n",
       "variant_number               -0.5415      0.001   -771.780      0.000      -0.543      -0.540\n",
       "experiment                    0.0542      0.000    156.404      0.000       0.053       0.055\n",
       "variant_number:experiment     0.5433      0.001    612.254      0.000       0.542       0.545\n",
       "=============================================================================================\n",
       "\"\"\""
      ]
     },
     "execution_count": 144,
     "metadata": {},
     "output_type": "execute_result"
    }
   ],
   "source": [
    "glm_model.summary()"
   ]
  },
  {
   "cell_type": "code",
   "execution_count": 145,
   "metadata": {},
   "outputs": [],
   "source": [
    "# Observation: treatment had 1.7x improvement compared to control"
   ]
  },
  {
   "cell_type": "markdown",
   "metadata": {},
   "source": [
    "### MCMC Simulation"
   ]
  },
  {
   "cell_type": "code",
   "execution_count": 146,
   "metadata": {},
   "outputs": [
    {
     "name": "stderr",
     "output_type": "stream",
     "text": [
      "/Users/sanjayrenduchintala/Documents/Anaconda/anaconda3/lib/python3.7/site-packages/theano/configdefaults.py:560: UserWarning: DeprecationWarning: there is no c++ compiler.This is deprecated and with Theano 0.11 a c++ compiler will be mandatory\n",
      "  warnings.warn(\"DeprecationWarning: there is no c++ compiler.\"\n",
      "WARNING (theano.configdefaults): g++ not detected ! Theano will be unable to execute optimized C-implementations (for both CPU and GPU) and will default to Python implementations. Performance will be severely degraded. To remove this warning, set Theano flags cxx to an empty string.\n",
      "WARNING (theano.tensor.blas): Using NumPy C-API based implementation for BLAS functions.\n"
     ]
    }
   ],
   "source": [
    "import pymc3 as pm\n",
    "import patsy as pt"
   ]
  },
  {
   "cell_type": "code",
   "execution_count": 147,
   "metadata": {},
   "outputs": [],
   "source": [
    "formula = 'active_mins ~ variant_number + experiment + variant_number:experiment'\n",
    "(mx_en, mx_ex) = pt.dmatrices(formula, df, return_type='dataframe', NA_action='raise')"
   ]
  },
  {
   "cell_type": "code",
   "execution_count": 148,
   "metadata": {},
   "outputs": [],
   "source": [
    "# source: https://docs.pymc.io/notebooks/GLM-poisson-regression.html\n",
    "def strip_derived_rvs(rvs):\n",
    "    '''Convenience fn: remove PyMC3-generated RVs from a list'''\n",
    "    ret_rvs = []\n",
    "    for rv in rvs:\n",
    "        if not (re.search('_log',rv.name) or re.search('_interval',rv.name)):\n",
    "            ret_rvs.append(rv)\n",
    "    return ret_rvs\n",
    "\n",
    "\n",
    "def plot_traces_pymc(trcs, varnames=None):\n",
    "    ''' Convenience fn: plot traces with overlaid means and values '''\n",
    "\n",
    "    nrows = len(trcs.varnames)\n",
    "    if varnames is not None:\n",
    "        nrows = len(varnames)\n",
    "\n",
    "    ax = pm.traceplot(trcs, var_names=varnames, figsize=(12,nrows*1.4),\n",
    "                      lines=tuple([(k, {}, v['mean'])\n",
    "                                   for k, v in pm.summary(trcs, varnames=varnames).iterrows()]))\n",
    "\n",
    "    for i, mn in enumerate(pm.summary(trcs, varnames=varnames)['mean']):\n",
    "        ax[i,0].annotate('{:.2f}'.format(mn), xy=(mn,0), xycoords='data',\n",
    "                         xytext=(5,10), textcoords='offset points', rotation=90,\n",
    "                         va='bottom', fontsize='large', color='#AA0022')"
   ]
  },
  {
   "cell_type": "code",
   "execution_count": 149,
   "metadata": {},
   "outputs": [],
   "source": [
    "# Use informed priors\n",
    "with pm.Model() as mc_glm1:\n",
    "\n",
    "    # define priors, weakly informative Normal\n",
    "    b0 = pm.Normal('b0_intercept', mu=0, sigma=10)\n",
    "    b1 = pm.Normal('b1_variant_number_1', mu=0, sigma=1)\n",
    "    b2 = pm.Normal('b2_experiment', mu=0, sigma=.1)\n",
    "    b3 = pm.Normal('b3_variant_number_1:experiment', mu=0, sigma=1)\n",
    "\n",
    "    # define linear model and exp link function\n",
    "    theta = (b0 +\n",
    "            b1 * mx_ex['variant_number'] +\n",
    "            b2 * mx_ex['experiment'] +\n",
    "            b3 * mx_ex['variant_number:experiment'])\n",
    "\n",
    "    ## Define Poisson likelihood\n",
    "    y = pm.Poisson('y', mu=np.exp(theta), observed=mx_en['active_mins'].values)"
   ]
  },
  {
   "cell_type": "code",
   "execution_count": null,
   "metadata": {},
   "outputs": [
    {
     "name": "stderr",
     "output_type": "stream",
     "text": [
      "Auto-assigning NUTS sampler...\n",
      "Initializing NUTS using jitter+adapt_diag...\n",
      "Multiprocess sampling (4 chains in 4 jobs)\n",
      "NUTS: [b3_variant_number_1:experiment, b2_experiment, b1_variant_number_1, b0_intercept]\n",
      "Sampling 4 chains, 0 divergences:   6%|▋         | 1550/24000 [3:31:25<370:16:46, 59.38s/draws] Process worker_chain_2:\n",
      "Process worker_chain_1:\n",
      "Process worker_chain_3:\n",
      "Process worker_chain_0:\n",
      "Traceback (most recent call last):\n",
      "Traceback (most recent call last):\n"
     ]
    }
   ],
   "source": [
    "with mc_glm1:\n",
    "    trace1 = pm.sample(1000, tune=5000, cores=4)"
   ]
  },
  {
   "cell_type": "code",
   "execution_count": null,
   "metadata": {},
   "outputs": [],
   "source": [
    "rvs = [rv.name for rv in strip_derived_rvs(mc_glm1.unobserved_RVs)]\n",
    "plot_traces_pymc(trace1, varnames=rvs)"
   ]
  },
  {
   "cell_type": "code",
   "execution_count": null,
   "metadata": {},
   "outputs": [],
   "source": [
    "# Takes too long!"
   ]
  },
  {
   "cell_type": "code",
   "execution_count": null,
   "metadata": {},
   "outputs": [],
   "source": [
    "# TODO: try t-test equivalent with simulation - https://docs.pymc.io/notebooks/BEST.html"
   ]
  }
 ],
 "metadata": {
  "kernelspec": {
   "display_name": "Python 3",
   "language": "python",
   "name": "python3"
  },
  "language_info": {
   "codemirror_mode": {
    "name": "ipython",
    "version": 3
   },
   "file_extension": ".py",
   "mimetype": "text/x-python",
   "name": "python",
   "nbconvert_exporter": "python",
   "pygments_lexer": "ipython3",
   "version": "3.7.3"
  }
 },
 "nbformat": 4,
 "nbformat_minor": 4
}
